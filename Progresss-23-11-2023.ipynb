{
  "cells": [
    {
      "cell_type": "code",
      "execution_count": 24,
      "metadata": {
        "colab": {
          "base_uri": "https://localhost:8080/"
        },
        "id": "6le8SFBPAack",
        "outputId": "2533f045-9d2c-456d-e17e-d77656a8480a"
      },
      "outputs": [
        {
          "name": "stdout",
          "output_type": "stream",
          "text": [
            "Requirement already satisfied: codecarbon in /usr/local/lib/python3.10/dist-packages (2.3.1)\n",
            "Requirement already satisfied: arrow in /usr/local/lib/python3.10/dist-packages (from codecarbon) (1.3.0)\n",
            "Requirement already satisfied: pandas in /usr/local/lib/python3.10/dist-packages (from codecarbon) (1.5.3)\n",
            "Requirement already satisfied: pynvml in /usr/local/lib/python3.10/dist-packages (from codecarbon) (11.5.0)\n",
            "Requirement already satisfied: requests in /usr/local/lib/python3.10/dist-packages (from codecarbon) (2.31.0)\n",
            "Requirement already satisfied: psutil in /usr/local/lib/python3.10/dist-packages (from codecarbon) (5.9.5)\n",
            "Requirement already satisfied: py-cpuinfo in /usr/local/lib/python3.10/dist-packages (from codecarbon) (9.0.0)\n",
            "Requirement already satisfied: fuzzywuzzy in /usr/local/lib/python3.10/dist-packages (from codecarbon) (0.18.0)\n",
            "Requirement already satisfied: click in /usr/local/lib/python3.10/dist-packages (from codecarbon) (8.1.7)\n",
            "Requirement already satisfied: prometheus-client in /usr/local/lib/python3.10/dist-packages (from codecarbon) (0.18.0)\n",
            "Requirement already satisfied: python-dateutil>=2.7.0 in /usr/local/lib/python3.10/dist-packages (from arrow->codecarbon) (2.8.2)\n",
            "Requirement already satisfied: types-python-dateutil>=2.8.10 in /usr/local/lib/python3.10/dist-packages (from arrow->codecarbon) (2.8.19.14)\n",
            "Requirement already satisfied: pytz>=2020.1 in /usr/local/lib/python3.10/dist-packages (from pandas->codecarbon) (2023.3.post1)\n",
            "Requirement already satisfied: numpy>=1.21.0 in /usr/local/lib/python3.10/dist-packages (from pandas->codecarbon) (1.23.5)\n",
            "Requirement already satisfied: charset-normalizer<4,>=2 in /usr/local/lib/python3.10/dist-packages (from requests->codecarbon) (3.3.2)\n",
            "Requirement already satisfied: idna<4,>=2.5 in /usr/local/lib/python3.10/dist-packages (from requests->codecarbon) (3.4)\n",
            "Requirement already satisfied: urllib3<3,>=1.21.1 in /usr/local/lib/python3.10/dist-packages (from requests->codecarbon) (2.0.7)\n",
            "Requirement already satisfied: certifi>=2017.4.17 in /usr/local/lib/python3.10/dist-packages (from requests->codecarbon) (2023.7.22)\n",
            "Requirement already satisfied: six>=1.5 in /usr/local/lib/python3.10/dist-packages (from python-dateutil>=2.7.0->arrow->codecarbon) (1.16.0)\n"
          ]
        }
      ],
      "source": [
        "import numpy as np\n",
        "import pandas as pd\n",
        "import csv            #importing this\n",
        "from scipy import stats\n",
        "\n",
        "from sklearn.decomposition import PCA\n",
        "\n",
        "# Visualisation libraries\n",
        "import matplotlib.pyplot as plt\n",
        "import plotly.graph_objects as go\n",
        "import seaborn as sns\n",
        "import plotly.express as px\n",
        "from plotly.subplots import make_subplots\n",
        "\n",
        "# Machine learning models\n",
        "from sklearn.model_selection import train_test_split\n",
        "from sklearn.neighbors import KNeighborsClassifier\n",
        "from sklearn.linear_model import LogisticRegression\n",
        "from sklearn.ensemble import RandomForestClassifier\n",
        "\n",
        "# Evaluation metrics\n",
        "from sklearn.metrics import accuracy_score\n",
        "from sklearn.metrics import precision_score\n",
        "from sklearn.metrics import recall_score\n",
        "from sklearn.metrics import roc_auc_score\n",
        "from sklearn.metrics import confusion_matrix\n",
        "from sklearn.metrics import f1_score\n",
        "from sklearn.metrics import matthews_corrcoef\n",
        "\n",
        "\n",
        "# Sustanability impact of each library\n",
        "!pip install codecarbon\n",
        "import codecarbon"
      ]
    },
    {
      "cell_type": "markdown",
      "metadata": {
        "id": "B6OGvH34YOUB"
      },
      "source": [
        "DataFrame with the values imported as type int16 bytes to reduce the size"
      ]
    },
    {
      "cell_type": "code",
      "execution_count": 25,
      "metadata": {
        "id": "_ejPAE3LHIvI"
      },
      "outputs": [],
      "source": [
        "# ab = pd.read_csv('covtype.csv')  #5523 is the highest value so 16 bytes is enough to represent it\n",
        "# df = ab.copy()\n"
      ]
    },
    {
      "cell_type": "markdown",
      "metadata": {
        "id": "emDuSRlgYOUK"
      },
      "source": [
        "Creating a list to assign dataframe columns with proper names"
      ]
    },
    {
      "cell_type": "code",
      "execution_count": 26,
      "metadata": {
        "colab": {
          "base_uri": "https://localhost:8080/",
          "height": 443
        },
        "id": "4BwvETYeiFXm",
        "outputId": "15dd1378-7177-4409-b8d8-fb9ba177401a"
      },
      "outputs": [
        {
          "data": {
            "text/html": [
              "\n",
              "  <div id=\"df-0ec143e8-cda1-4dc9-9bf2-70e8b67bffcd\" class=\"colab-df-container\">\n",
              "    <div>\n",
              "<style scoped>\n",
              "    .dataframe tbody tr th:only-of-type {\n",
              "        vertical-align: middle;\n",
              "    }\n",
              "\n",
              "    .dataframe tbody tr th {\n",
              "        vertical-align: top;\n",
              "    }\n",
              "\n",
              "    .dataframe thead th {\n",
              "        text-align: right;\n",
              "    }\n",
              "</style>\n",
              "<table border=\"1\" class=\"dataframe\">\n",
              "  <thead>\n",
              "    <tr style=\"text-align: right;\">\n",
              "      <th></th>\n",
              "      <th>2596</th>\n",
              "      <th>51</th>\n",
              "      <th>3</th>\n",
              "      <th>258</th>\n",
              "      <th>0</th>\n",
              "      <th>510</th>\n",
              "      <th>221</th>\n",
              "      <th>232</th>\n",
              "      <th>148</th>\n",
              "      <th>6279</th>\n",
              "      <th>...</th>\n",
              "      <th>0.34</th>\n",
              "      <th>0.35</th>\n",
              "      <th>0.36</th>\n",
              "      <th>0.37</th>\n",
              "      <th>0.38</th>\n",
              "      <th>0.39</th>\n",
              "      <th>0.40</th>\n",
              "      <th>0.41</th>\n",
              "      <th>0.42</th>\n",
              "      <th>5</th>\n",
              "    </tr>\n",
              "  </thead>\n",
              "  <tbody>\n",
              "    <tr>\n",
              "      <th>0</th>\n",
              "      <td>2590</td>\n",
              "      <td>56</td>\n",
              "      <td>2</td>\n",
              "      <td>212</td>\n",
              "      <td>-6</td>\n",
              "      <td>390</td>\n",
              "      <td>220</td>\n",
              "      <td>235</td>\n",
              "      <td>151</td>\n",
              "      <td>6225</td>\n",
              "      <td>...</td>\n",
              "      <td>0</td>\n",
              "      <td>0</td>\n",
              "      <td>0</td>\n",
              "      <td>0</td>\n",
              "      <td>0</td>\n",
              "      <td>0</td>\n",
              "      <td>0</td>\n",
              "      <td>0</td>\n",
              "      <td>0</td>\n",
              "      <td>5</td>\n",
              "    </tr>\n",
              "    <tr>\n",
              "      <th>1</th>\n",
              "      <td>2804</td>\n",
              "      <td>139</td>\n",
              "      <td>9</td>\n",
              "      <td>268</td>\n",
              "      <td>65</td>\n",
              "      <td>3180</td>\n",
              "      <td>234</td>\n",
              "      <td>238</td>\n",
              "      <td>135</td>\n",
              "      <td>6121</td>\n",
              "      <td>...</td>\n",
              "      <td>0</td>\n",
              "      <td>0</td>\n",
              "      <td>0</td>\n",
              "      <td>0</td>\n",
              "      <td>0</td>\n",
              "      <td>0</td>\n",
              "      <td>0</td>\n",
              "      <td>0</td>\n",
              "      <td>0</td>\n",
              "      <td>2</td>\n",
              "    </tr>\n",
              "    <tr>\n",
              "      <th>2</th>\n",
              "      <td>2785</td>\n",
              "      <td>155</td>\n",
              "      <td>18</td>\n",
              "      <td>242</td>\n",
              "      <td>118</td>\n",
              "      <td>3090</td>\n",
              "      <td>238</td>\n",
              "      <td>238</td>\n",
              "      <td>122</td>\n",
              "      <td>6211</td>\n",
              "      <td>...</td>\n",
              "      <td>0</td>\n",
              "      <td>0</td>\n",
              "      <td>0</td>\n",
              "      <td>0</td>\n",
              "      <td>0</td>\n",
              "      <td>0</td>\n",
              "      <td>0</td>\n",
              "      <td>0</td>\n",
              "      <td>0</td>\n",
              "      <td>2</td>\n",
              "    </tr>\n",
              "    <tr>\n",
              "      <th>3</th>\n",
              "      <td>2595</td>\n",
              "      <td>45</td>\n",
              "      <td>2</td>\n",
              "      <td>153</td>\n",
              "      <td>-1</td>\n",
              "      <td>391</td>\n",
              "      <td>220</td>\n",
              "      <td>234</td>\n",
              "      <td>150</td>\n",
              "      <td>6172</td>\n",
              "      <td>...</td>\n",
              "      <td>0</td>\n",
              "      <td>0</td>\n",
              "      <td>0</td>\n",
              "      <td>0</td>\n",
              "      <td>0</td>\n",
              "      <td>0</td>\n",
              "      <td>0</td>\n",
              "      <td>0</td>\n",
              "      <td>0</td>\n",
              "      <td>5</td>\n",
              "    </tr>\n",
              "    <tr>\n",
              "      <th>4</th>\n",
              "      <td>2579</td>\n",
              "      <td>132</td>\n",
              "      <td>6</td>\n",
              "      <td>300</td>\n",
              "      <td>-15</td>\n",
              "      <td>67</td>\n",
              "      <td>230</td>\n",
              "      <td>237</td>\n",
              "      <td>140</td>\n",
              "      <td>6031</td>\n",
              "      <td>...</td>\n",
              "      <td>0</td>\n",
              "      <td>0</td>\n",
              "      <td>0</td>\n",
              "      <td>0</td>\n",
              "      <td>0</td>\n",
              "      <td>0</td>\n",
              "      <td>0</td>\n",
              "      <td>0</td>\n",
              "      <td>0</td>\n",
              "      <td>2</td>\n",
              "    </tr>\n",
              "    <tr>\n",
              "      <th>...</th>\n",
              "      <td>...</td>\n",
              "      <td>...</td>\n",
              "      <td>...</td>\n",
              "      <td>...</td>\n",
              "      <td>...</td>\n",
              "      <td>...</td>\n",
              "      <td>...</td>\n",
              "      <td>...</td>\n",
              "      <td>...</td>\n",
              "      <td>...</td>\n",
              "      <td>...</td>\n",
              "      <td>...</td>\n",
              "      <td>...</td>\n",
              "      <td>...</td>\n",
              "      <td>...</td>\n",
              "      <td>...</td>\n",
              "      <td>...</td>\n",
              "      <td>...</td>\n",
              "      <td>...</td>\n",
              "      <td>...</td>\n",
              "      <td>...</td>\n",
              "    </tr>\n",
              "    <tr>\n",
              "      <th>581006</th>\n",
              "      <td>2396</td>\n",
              "      <td>153</td>\n",
              "      <td>20</td>\n",
              "      <td>85</td>\n",
              "      <td>17</td>\n",
              "      <td>108</td>\n",
              "      <td>240</td>\n",
              "      <td>237</td>\n",
              "      <td>118</td>\n",
              "      <td>837</td>\n",
              "      <td>...</td>\n",
              "      <td>0</td>\n",
              "      <td>0</td>\n",
              "      <td>0</td>\n",
              "      <td>0</td>\n",
              "      <td>0</td>\n",
              "      <td>0</td>\n",
              "      <td>0</td>\n",
              "      <td>0</td>\n",
              "      <td>0</td>\n",
              "      <td>3</td>\n",
              "    </tr>\n",
              "    <tr>\n",
              "      <th>581007</th>\n",
              "      <td>2391</td>\n",
              "      <td>152</td>\n",
              "      <td>19</td>\n",
              "      <td>67</td>\n",
              "      <td>12</td>\n",
              "      <td>95</td>\n",
              "      <td>240</td>\n",
              "      <td>237</td>\n",
              "      <td>119</td>\n",
              "      <td>845</td>\n",
              "      <td>...</td>\n",
              "      <td>0</td>\n",
              "      <td>0</td>\n",
              "      <td>0</td>\n",
              "      <td>0</td>\n",
              "      <td>0</td>\n",
              "      <td>0</td>\n",
              "      <td>0</td>\n",
              "      <td>0</td>\n",
              "      <td>0</td>\n",
              "      <td>3</td>\n",
              "    </tr>\n",
              "    <tr>\n",
              "      <th>581008</th>\n",
              "      <td>2386</td>\n",
              "      <td>159</td>\n",
              "      <td>17</td>\n",
              "      <td>60</td>\n",
              "      <td>7</td>\n",
              "      <td>90</td>\n",
              "      <td>236</td>\n",
              "      <td>241</td>\n",
              "      <td>130</td>\n",
              "      <td>854</td>\n",
              "      <td>...</td>\n",
              "      <td>0</td>\n",
              "      <td>0</td>\n",
              "      <td>0</td>\n",
              "      <td>0</td>\n",
              "      <td>0</td>\n",
              "      <td>0</td>\n",
              "      <td>0</td>\n",
              "      <td>0</td>\n",
              "      <td>0</td>\n",
              "      <td>3</td>\n",
              "    </tr>\n",
              "    <tr>\n",
              "      <th>581009</th>\n",
              "      <td>2384</td>\n",
              "      <td>170</td>\n",
              "      <td>15</td>\n",
              "      <td>60</td>\n",
              "      <td>5</td>\n",
              "      <td>90</td>\n",
              "      <td>230</td>\n",
              "      <td>245</td>\n",
              "      <td>143</td>\n",
              "      <td>864</td>\n",
              "      <td>...</td>\n",
              "      <td>0</td>\n",
              "      <td>0</td>\n",
              "      <td>0</td>\n",
              "      <td>0</td>\n",
              "      <td>0</td>\n",
              "      <td>0</td>\n",
              "      <td>0</td>\n",
              "      <td>0</td>\n",
              "      <td>0</td>\n",
              "      <td>3</td>\n",
              "    </tr>\n",
              "    <tr>\n",
              "      <th>581010</th>\n",
              "      <td>2383</td>\n",
              "      <td>165</td>\n",
              "      <td>13</td>\n",
              "      <td>60</td>\n",
              "      <td>4</td>\n",
              "      <td>67</td>\n",
              "      <td>231</td>\n",
              "      <td>244</td>\n",
              "      <td>141</td>\n",
              "      <td>875</td>\n",
              "      <td>...</td>\n",
              "      <td>0</td>\n",
              "      <td>0</td>\n",
              "      <td>0</td>\n",
              "      <td>0</td>\n",
              "      <td>0</td>\n",
              "      <td>0</td>\n",
              "      <td>0</td>\n",
              "      <td>0</td>\n",
              "      <td>0</td>\n",
              "      <td>3</td>\n",
              "    </tr>\n",
              "  </tbody>\n",
              "</table>\n",
              "<p>581011 rows × 55 columns</p>\n",
              "</div>\n",
              "    <div class=\"colab-df-buttons\">\n",
              "\n",
              "  <div class=\"colab-df-container\">\n",
              "    <button class=\"colab-df-convert\" onclick=\"convertToInteractive('df-0ec143e8-cda1-4dc9-9bf2-70e8b67bffcd')\"\n",
              "            title=\"Convert this dataframe to an interactive table.\"\n",
              "            style=\"display:none;\">\n",
              "\n",
              "  <svg xmlns=\"http://www.w3.org/2000/svg\" height=\"24px\" viewBox=\"0 -960 960 960\">\n",
              "    <path d=\"M120-120v-720h720v720H120Zm60-500h600v-160H180v160Zm220 220h160v-160H400v160Zm0 220h160v-160H400v160ZM180-400h160v-160H180v160Zm440 0h160v-160H620v160ZM180-180h160v-160H180v160Zm440 0h160v-160H620v160Z\"/>\n",
              "  </svg>\n",
              "    </button>\n",
              "\n",
              "  <style>\n",
              "    .colab-df-container {\n",
              "      display:flex;\n",
              "      gap: 12px;\n",
              "    }\n",
              "\n",
              "    .colab-df-convert {\n",
              "      background-color: #E8F0FE;\n",
              "      border: none;\n",
              "      border-radius: 50%;\n",
              "      cursor: pointer;\n",
              "      display: none;\n",
              "      fill: #1967D2;\n",
              "      height: 32px;\n",
              "      padding: 0 0 0 0;\n",
              "      width: 32px;\n",
              "    }\n",
              "\n",
              "    .colab-df-convert:hover {\n",
              "      background-color: #E2EBFA;\n",
              "      box-shadow: 0px 1px 2px rgba(60, 64, 67, 0.3), 0px 1px 3px 1px rgba(60, 64, 67, 0.15);\n",
              "      fill: #174EA6;\n",
              "    }\n",
              "\n",
              "    .colab-df-buttons div {\n",
              "      margin-bottom: 4px;\n",
              "    }\n",
              "\n",
              "    [theme=dark] .colab-df-convert {\n",
              "      background-color: #3B4455;\n",
              "      fill: #D2E3FC;\n",
              "    }\n",
              "\n",
              "    [theme=dark] .colab-df-convert:hover {\n",
              "      background-color: #434B5C;\n",
              "      box-shadow: 0px 1px 3px 1px rgba(0, 0, 0, 0.15);\n",
              "      filter: drop-shadow(0px 1px 2px rgba(0, 0, 0, 0.3));\n",
              "      fill: #FFFFFF;\n",
              "    }\n",
              "  </style>\n",
              "\n",
              "    <script>\n",
              "      const buttonEl =\n",
              "        document.querySelector('#df-0ec143e8-cda1-4dc9-9bf2-70e8b67bffcd button.colab-df-convert');\n",
              "      buttonEl.style.display =\n",
              "        google.colab.kernel.accessAllowed ? 'block' : 'none';\n",
              "\n",
              "      async function convertToInteractive(key) {\n",
              "        const element = document.querySelector('#df-0ec143e8-cda1-4dc9-9bf2-70e8b67bffcd');\n",
              "        const dataTable =\n",
              "          await google.colab.kernel.invokeFunction('convertToInteractive',\n",
              "                                                    [key], {});\n",
              "        if (!dataTable) return;\n",
              "\n",
              "        const docLinkHtml = 'Like what you see? Visit the ' +\n",
              "          '<a target=\"_blank\" href=https://colab.research.google.com/notebooks/data_table.ipynb>data table notebook</a>'\n",
              "          + ' to learn more about interactive tables.';\n",
              "        element.innerHTML = '';\n",
              "        dataTable['output_type'] = 'display_data';\n",
              "        await google.colab.output.renderOutput(dataTable, element);\n",
              "        const docLink = document.createElement('div');\n",
              "        docLink.innerHTML = docLinkHtml;\n",
              "        element.appendChild(docLink);\n",
              "      }\n",
              "    </script>\n",
              "  </div>\n",
              "\n",
              "\n",
              "<div id=\"df-7812c1b2-b425-4b94-a166-c3382e3df0af\">\n",
              "  <button class=\"colab-df-quickchart\" onclick=\"quickchart('df-7812c1b2-b425-4b94-a166-c3382e3df0af')\"\n",
              "            title=\"Suggest charts\"\n",
              "            style=\"display:none;\">\n",
              "\n",
              "<svg xmlns=\"http://www.w3.org/2000/svg\" height=\"24px\"viewBox=\"0 0 24 24\"\n",
              "     width=\"24px\">\n",
              "    <g>\n",
              "        <path d=\"M19 3H5c-1.1 0-2 .9-2 2v14c0 1.1.9 2 2 2h14c1.1 0 2-.9 2-2V5c0-1.1-.9-2-2-2zM9 17H7v-7h2v7zm4 0h-2V7h2v10zm4 0h-2v-4h2v4z\"/>\n",
              "    </g>\n",
              "</svg>\n",
              "  </button>\n",
              "\n",
              "<style>\n",
              "  .colab-df-quickchart {\n",
              "      --bg-color: #E8F0FE;\n",
              "      --fill-color: #1967D2;\n",
              "      --hover-bg-color: #E2EBFA;\n",
              "      --hover-fill-color: #174EA6;\n",
              "      --disabled-fill-color: #AAA;\n",
              "      --disabled-bg-color: #DDD;\n",
              "  }\n",
              "\n",
              "  [theme=dark] .colab-df-quickchart {\n",
              "      --bg-color: #3B4455;\n",
              "      --fill-color: #D2E3FC;\n",
              "      --hover-bg-color: #434B5C;\n",
              "      --hover-fill-color: #FFFFFF;\n",
              "      --disabled-bg-color: #3B4455;\n",
              "      --disabled-fill-color: #666;\n",
              "  }\n",
              "\n",
              "  .colab-df-quickchart {\n",
              "    background-color: var(--bg-color);\n",
              "    border: none;\n",
              "    border-radius: 50%;\n",
              "    cursor: pointer;\n",
              "    display: none;\n",
              "    fill: var(--fill-color);\n",
              "    height: 32px;\n",
              "    padding: 0;\n",
              "    width: 32px;\n",
              "  }\n",
              "\n",
              "  .colab-df-quickchart:hover {\n",
              "    background-color: var(--hover-bg-color);\n",
              "    box-shadow: 0 1px 2px rgba(60, 64, 67, 0.3), 0 1px 3px 1px rgba(60, 64, 67, 0.15);\n",
              "    fill: var(--button-hover-fill-color);\n",
              "  }\n",
              "\n",
              "  .colab-df-quickchart-complete:disabled,\n",
              "  .colab-df-quickchart-complete:disabled:hover {\n",
              "    background-color: var(--disabled-bg-color);\n",
              "    fill: var(--disabled-fill-color);\n",
              "    box-shadow: none;\n",
              "  }\n",
              "\n",
              "  .colab-df-spinner {\n",
              "    border: 2px solid var(--fill-color);\n",
              "    border-color: transparent;\n",
              "    border-bottom-color: var(--fill-color);\n",
              "    animation:\n",
              "      spin 1s steps(1) infinite;\n",
              "  }\n",
              "\n",
              "  @keyframes spin {\n",
              "    0% {\n",
              "      border-color: transparent;\n",
              "      border-bottom-color: var(--fill-color);\n",
              "      border-left-color: var(--fill-color);\n",
              "    }\n",
              "    20% {\n",
              "      border-color: transparent;\n",
              "      border-left-color: var(--fill-color);\n",
              "      border-top-color: var(--fill-color);\n",
              "    }\n",
              "    30% {\n",
              "      border-color: transparent;\n",
              "      border-left-color: var(--fill-color);\n",
              "      border-top-color: var(--fill-color);\n",
              "      border-right-color: var(--fill-color);\n",
              "    }\n",
              "    40% {\n",
              "      border-color: transparent;\n",
              "      border-right-color: var(--fill-color);\n",
              "      border-top-color: var(--fill-color);\n",
              "    }\n",
              "    60% {\n",
              "      border-color: transparent;\n",
              "      border-right-color: var(--fill-color);\n",
              "    }\n",
              "    80% {\n",
              "      border-color: transparent;\n",
              "      border-right-color: var(--fill-color);\n",
              "      border-bottom-color: var(--fill-color);\n",
              "    }\n",
              "    90% {\n",
              "      border-color: transparent;\n",
              "      border-bottom-color: var(--fill-color);\n",
              "    }\n",
              "  }\n",
              "</style>\n",
              "\n",
              "  <script>\n",
              "    async function quickchart(key) {\n",
              "      const quickchartButtonEl =\n",
              "        document.querySelector('#' + key + ' button');\n",
              "      quickchartButtonEl.disabled = true;  // To prevent multiple clicks.\n",
              "      quickchartButtonEl.classList.add('colab-df-spinner');\n",
              "      try {\n",
              "        const charts = await google.colab.kernel.invokeFunction(\n",
              "            'suggestCharts', [key], {});\n",
              "      } catch (error) {\n",
              "        console.error('Error during call to suggestCharts:', error);\n",
              "      }\n",
              "      quickchartButtonEl.classList.remove('colab-df-spinner');\n",
              "      quickchartButtonEl.classList.add('colab-df-quickchart-complete');\n",
              "    }\n",
              "    (() => {\n",
              "      let quickchartButtonEl =\n",
              "        document.querySelector('#df-7812c1b2-b425-4b94-a166-c3382e3df0af button');\n",
              "      quickchartButtonEl.style.display =\n",
              "        google.colab.kernel.accessAllowed ? 'block' : 'none';\n",
              "    })();\n",
              "  </script>\n",
              "</div>\n",
              "    </div>\n",
              "  </div>\n"
            ],
            "text/plain": [
              "        2596   51   3  258    0   510  221  232  148  6279  ...  0.34  0.35  \\\n",
              "0       2590   56   2  212   -6   390  220  235  151  6225  ...     0     0   \n",
              "1       2804  139   9  268   65  3180  234  238  135  6121  ...     0     0   \n",
              "2       2785  155  18  242  118  3090  238  238  122  6211  ...     0     0   \n",
              "3       2595   45   2  153   -1   391  220  234  150  6172  ...     0     0   \n",
              "4       2579  132   6  300  -15    67  230  237  140  6031  ...     0     0   \n",
              "...      ...  ...  ..  ...  ...   ...  ...  ...  ...   ...  ...   ...   ...   \n",
              "581006  2396  153  20   85   17   108  240  237  118   837  ...     0     0   \n",
              "581007  2391  152  19   67   12    95  240  237  119   845  ...     0     0   \n",
              "581008  2386  159  17   60    7    90  236  241  130   854  ...     0     0   \n",
              "581009  2384  170  15   60    5    90  230  245  143   864  ...     0     0   \n",
              "581010  2383  165  13   60    4    67  231  244  141   875  ...     0     0   \n",
              "\n",
              "        0.36  0.37  0.38  0.39  0.40  0.41  0.42  5  \n",
              "0          0     0     0     0     0     0     0  5  \n",
              "1          0     0     0     0     0     0     0  2  \n",
              "2          0     0     0     0     0     0     0  2  \n",
              "3          0     0     0     0     0     0     0  5  \n",
              "4          0     0     0     0     0     0     0  2  \n",
              "...      ...   ...   ...   ...   ...   ...   ... ..  \n",
              "581006     0     0     0     0     0     0     0  3  \n",
              "581007     0     0     0     0     0     0     0  3  \n",
              "581008     0     0     0     0     0     0     0  3  \n",
              "581009     0     0     0     0     0     0     0  3  \n",
              "581010     0     0     0     0     0     0     0  3  \n",
              "\n",
              "[581011 rows x 55 columns]"
            ]
          },
          "execution_count": 26,
          "metadata": {},
          "output_type": "execute_result"
        }
      ],
      "source": [
        "df"
      ]
    },
    {
      "cell_type": "markdown",
      "metadata": {
        "id": "r_cT1VHCYOUL"
      },
      "source": [
        "![Dataset details](../Dataset/data_details.png)"
      ]
    },
    {
      "cell_type": "code",
      "execution_count": 27,
      "metadata": {
        "colab": {
          "base_uri": "https://localhost:8080/"
        },
        "id": "OqOob5B_YOUM",
        "outputId": "f3370fe2-90b4-4e99-9e3f-9d1bd19c7de9"
      },
      "outputs": [
        {
          "name": "stdout",
          "output_type": "stream",
          "text": [
            "['elevation', 'aspect', 'slope', 'horizontal_distance_to_hydrology', 'vertical_distance_to_hydrology', 'horizontal_distance_to_roadways', 'hillshade_9am', 'hillshade_noon', 'hillshade_3pm', 'horizontal_distance_to_fire_points', 'wilderness_area1', 'wilderness_area2', 'wilderness_area3', 'wilderness_area4', 'soil_type1', 'soil_type2', 'soil_type3', 'soil_type4', 'soil_type5', 'soil_type6', 'soil_type7', 'soil_type8', 'soil_type9', 'soil_type10', 'soil_type11', 'soil_type12', 'soil_type13', 'soil_type14', 'soil_type15', 'soil_type16', 'soil_type17', 'soil_type18', 'soil_type19', 'soil_type20', 'soil_type21', 'soil_type22', 'soil_type23', 'soil_type24', 'soil_type25', 'soil_type26', 'soil_type27', 'soil_type28', 'soil_type29', 'soil_type30', 'soil_type31', 'soil_type32', 'soil_type33', 'soil_type34', 'soil_type35', 'soil_type36', 'soil_type37', 'soil_type38', 'soil_type39', 'soil_type40', 'cover_type']\n"
          ]
        }
      ],
      "source": [
        "#Column names of the first 14 columns\n",
        "column_names = ['elevation', 'aspect', 'slope',\n",
        "                'horizontal_distance_to_hydrology',\n",
        "                'vertical_distance_to_hydrology',\n",
        "                'horizontal_distance_to_roadways',\n",
        "                'hillshade_9am', 'hillshade_noon', 'hillshade_3pm',\n",
        "                'horizontal_distance_to_fire_points', 'wilderness_area1',\n",
        "                'wilderness_area2', 'wilderness_area3','wilderness_area4']\n",
        "\n",
        "# adding the 40 soil types column names\n",
        "for i in range(1,41):\n",
        "    column_names.append(f\"soil_type{i}\")\n",
        "\n",
        "# adding the final target columns\n",
        "column_names.append(\"cover_type\")\n",
        "\n",
        "print(column_names)"
      ]
    },
    {
      "cell_type": "code",
      "execution_count": 28,
      "metadata": {
        "colab": {
          "base_uri": "https://localhost:8080/",
          "height": 443
        },
        "id": "15vcWwMJYOUO",
        "outputId": "61b8ca2a-214a-47ea-85db-6440e161fa37"
      },
      "outputs": [
        {
          "data": {
            "text/html": [
              "\n",
              "  <div id=\"df-390bb1a3-3757-42ac-9b7b-8421bc56cdae\" class=\"colab-df-container\">\n",
              "    <div>\n",
              "<style scoped>\n",
              "    .dataframe tbody tr th:only-of-type {\n",
              "        vertical-align: middle;\n",
              "    }\n",
              "\n",
              "    .dataframe tbody tr th {\n",
              "        vertical-align: top;\n",
              "    }\n",
              "\n",
              "    .dataframe thead th {\n",
              "        text-align: right;\n",
              "    }\n",
              "</style>\n",
              "<table border=\"1\" class=\"dataframe\">\n",
              "  <thead>\n",
              "    <tr style=\"text-align: right;\">\n",
              "      <th></th>\n",
              "      <th>elevation</th>\n",
              "      <th>aspect</th>\n",
              "      <th>slope</th>\n",
              "      <th>horizontal_distance_to_hydrology</th>\n",
              "      <th>vertical_distance_to_hydrology</th>\n",
              "      <th>horizontal_distance_to_roadways</th>\n",
              "      <th>hillshade_9am</th>\n",
              "      <th>hillshade_noon</th>\n",
              "      <th>hillshade_3pm</th>\n",
              "      <th>horizontal_distance_to_fire_points</th>\n",
              "      <th>...</th>\n",
              "      <th>soil_type32</th>\n",
              "      <th>soil_type33</th>\n",
              "      <th>soil_type34</th>\n",
              "      <th>soil_type35</th>\n",
              "      <th>soil_type36</th>\n",
              "      <th>soil_type37</th>\n",
              "      <th>soil_type38</th>\n",
              "      <th>soil_type39</th>\n",
              "      <th>soil_type40</th>\n",
              "      <th>cover_type</th>\n",
              "    </tr>\n",
              "  </thead>\n",
              "  <tbody>\n",
              "    <tr>\n",
              "      <th>0</th>\n",
              "      <td>2590</td>\n",
              "      <td>56</td>\n",
              "      <td>2</td>\n",
              "      <td>212</td>\n",
              "      <td>-6</td>\n",
              "      <td>390</td>\n",
              "      <td>220</td>\n",
              "      <td>235</td>\n",
              "      <td>151</td>\n",
              "      <td>6225</td>\n",
              "      <td>...</td>\n",
              "      <td>0</td>\n",
              "      <td>0</td>\n",
              "      <td>0</td>\n",
              "      <td>0</td>\n",
              "      <td>0</td>\n",
              "      <td>0</td>\n",
              "      <td>0</td>\n",
              "      <td>0</td>\n",
              "      <td>0</td>\n",
              "      <td>5</td>\n",
              "    </tr>\n",
              "    <tr>\n",
              "      <th>1</th>\n",
              "      <td>2804</td>\n",
              "      <td>139</td>\n",
              "      <td>9</td>\n",
              "      <td>268</td>\n",
              "      <td>65</td>\n",
              "      <td>3180</td>\n",
              "      <td>234</td>\n",
              "      <td>238</td>\n",
              "      <td>135</td>\n",
              "      <td>6121</td>\n",
              "      <td>...</td>\n",
              "      <td>0</td>\n",
              "      <td>0</td>\n",
              "      <td>0</td>\n",
              "      <td>0</td>\n",
              "      <td>0</td>\n",
              "      <td>0</td>\n",
              "      <td>0</td>\n",
              "      <td>0</td>\n",
              "      <td>0</td>\n",
              "      <td>2</td>\n",
              "    </tr>\n",
              "    <tr>\n",
              "      <th>2</th>\n",
              "      <td>2785</td>\n",
              "      <td>155</td>\n",
              "      <td>18</td>\n",
              "      <td>242</td>\n",
              "      <td>118</td>\n",
              "      <td>3090</td>\n",
              "      <td>238</td>\n",
              "      <td>238</td>\n",
              "      <td>122</td>\n",
              "      <td>6211</td>\n",
              "      <td>...</td>\n",
              "      <td>0</td>\n",
              "      <td>0</td>\n",
              "      <td>0</td>\n",
              "      <td>0</td>\n",
              "      <td>0</td>\n",
              "      <td>0</td>\n",
              "      <td>0</td>\n",
              "      <td>0</td>\n",
              "      <td>0</td>\n",
              "      <td>2</td>\n",
              "    </tr>\n",
              "    <tr>\n",
              "      <th>3</th>\n",
              "      <td>2595</td>\n",
              "      <td>45</td>\n",
              "      <td>2</td>\n",
              "      <td>153</td>\n",
              "      <td>-1</td>\n",
              "      <td>391</td>\n",
              "      <td>220</td>\n",
              "      <td>234</td>\n",
              "      <td>150</td>\n",
              "      <td>6172</td>\n",
              "      <td>...</td>\n",
              "      <td>0</td>\n",
              "      <td>0</td>\n",
              "      <td>0</td>\n",
              "      <td>0</td>\n",
              "      <td>0</td>\n",
              "      <td>0</td>\n",
              "      <td>0</td>\n",
              "      <td>0</td>\n",
              "      <td>0</td>\n",
              "      <td>5</td>\n",
              "    </tr>\n",
              "    <tr>\n",
              "      <th>4</th>\n",
              "      <td>2579</td>\n",
              "      <td>132</td>\n",
              "      <td>6</td>\n",
              "      <td>300</td>\n",
              "      <td>-15</td>\n",
              "      <td>67</td>\n",
              "      <td>230</td>\n",
              "      <td>237</td>\n",
              "      <td>140</td>\n",
              "      <td>6031</td>\n",
              "      <td>...</td>\n",
              "      <td>0</td>\n",
              "      <td>0</td>\n",
              "      <td>0</td>\n",
              "      <td>0</td>\n",
              "      <td>0</td>\n",
              "      <td>0</td>\n",
              "      <td>0</td>\n",
              "      <td>0</td>\n",
              "      <td>0</td>\n",
              "      <td>2</td>\n",
              "    </tr>\n",
              "    <tr>\n",
              "      <th>...</th>\n",
              "      <td>...</td>\n",
              "      <td>...</td>\n",
              "      <td>...</td>\n",
              "      <td>...</td>\n",
              "      <td>...</td>\n",
              "      <td>...</td>\n",
              "      <td>...</td>\n",
              "      <td>...</td>\n",
              "      <td>...</td>\n",
              "      <td>...</td>\n",
              "      <td>...</td>\n",
              "      <td>...</td>\n",
              "      <td>...</td>\n",
              "      <td>...</td>\n",
              "      <td>...</td>\n",
              "      <td>...</td>\n",
              "      <td>...</td>\n",
              "      <td>...</td>\n",
              "      <td>...</td>\n",
              "      <td>...</td>\n",
              "      <td>...</td>\n",
              "    </tr>\n",
              "    <tr>\n",
              "      <th>581006</th>\n",
              "      <td>2396</td>\n",
              "      <td>153</td>\n",
              "      <td>20</td>\n",
              "      <td>85</td>\n",
              "      <td>17</td>\n",
              "      <td>108</td>\n",
              "      <td>240</td>\n",
              "      <td>237</td>\n",
              "      <td>118</td>\n",
              "      <td>837</td>\n",
              "      <td>...</td>\n",
              "      <td>0</td>\n",
              "      <td>0</td>\n",
              "      <td>0</td>\n",
              "      <td>0</td>\n",
              "      <td>0</td>\n",
              "      <td>0</td>\n",
              "      <td>0</td>\n",
              "      <td>0</td>\n",
              "      <td>0</td>\n",
              "      <td>3</td>\n",
              "    </tr>\n",
              "    <tr>\n",
              "      <th>581007</th>\n",
              "      <td>2391</td>\n",
              "      <td>152</td>\n",
              "      <td>19</td>\n",
              "      <td>67</td>\n",
              "      <td>12</td>\n",
              "      <td>95</td>\n",
              "      <td>240</td>\n",
              "      <td>237</td>\n",
              "      <td>119</td>\n",
              "      <td>845</td>\n",
              "      <td>...</td>\n",
              "      <td>0</td>\n",
              "      <td>0</td>\n",
              "      <td>0</td>\n",
              "      <td>0</td>\n",
              "      <td>0</td>\n",
              "      <td>0</td>\n",
              "      <td>0</td>\n",
              "      <td>0</td>\n",
              "      <td>0</td>\n",
              "      <td>3</td>\n",
              "    </tr>\n",
              "    <tr>\n",
              "      <th>581008</th>\n",
              "      <td>2386</td>\n",
              "      <td>159</td>\n",
              "      <td>17</td>\n",
              "      <td>60</td>\n",
              "      <td>7</td>\n",
              "      <td>90</td>\n",
              "      <td>236</td>\n",
              "      <td>241</td>\n",
              "      <td>130</td>\n",
              "      <td>854</td>\n",
              "      <td>...</td>\n",
              "      <td>0</td>\n",
              "      <td>0</td>\n",
              "      <td>0</td>\n",
              "      <td>0</td>\n",
              "      <td>0</td>\n",
              "      <td>0</td>\n",
              "      <td>0</td>\n",
              "      <td>0</td>\n",
              "      <td>0</td>\n",
              "      <td>3</td>\n",
              "    </tr>\n",
              "    <tr>\n",
              "      <th>581009</th>\n",
              "      <td>2384</td>\n",
              "      <td>170</td>\n",
              "      <td>15</td>\n",
              "      <td>60</td>\n",
              "      <td>5</td>\n",
              "      <td>90</td>\n",
              "      <td>230</td>\n",
              "      <td>245</td>\n",
              "      <td>143</td>\n",
              "      <td>864</td>\n",
              "      <td>...</td>\n",
              "      <td>0</td>\n",
              "      <td>0</td>\n",
              "      <td>0</td>\n",
              "      <td>0</td>\n",
              "      <td>0</td>\n",
              "      <td>0</td>\n",
              "      <td>0</td>\n",
              "      <td>0</td>\n",
              "      <td>0</td>\n",
              "      <td>3</td>\n",
              "    </tr>\n",
              "    <tr>\n",
              "      <th>581010</th>\n",
              "      <td>2383</td>\n",
              "      <td>165</td>\n",
              "      <td>13</td>\n",
              "      <td>60</td>\n",
              "      <td>4</td>\n",
              "      <td>67</td>\n",
              "      <td>231</td>\n",
              "      <td>244</td>\n",
              "      <td>141</td>\n",
              "      <td>875</td>\n",
              "      <td>...</td>\n",
              "      <td>0</td>\n",
              "      <td>0</td>\n",
              "      <td>0</td>\n",
              "      <td>0</td>\n",
              "      <td>0</td>\n",
              "      <td>0</td>\n",
              "      <td>0</td>\n",
              "      <td>0</td>\n",
              "      <td>0</td>\n",
              "      <td>3</td>\n",
              "    </tr>\n",
              "  </tbody>\n",
              "</table>\n",
              "<p>581011 rows × 55 columns</p>\n",
              "</div>\n",
              "    <div class=\"colab-df-buttons\">\n",
              "\n",
              "  <div class=\"colab-df-container\">\n",
              "    <button class=\"colab-df-convert\" onclick=\"convertToInteractive('df-390bb1a3-3757-42ac-9b7b-8421bc56cdae')\"\n",
              "            title=\"Convert this dataframe to an interactive table.\"\n",
              "            style=\"display:none;\">\n",
              "\n",
              "  <svg xmlns=\"http://www.w3.org/2000/svg\" height=\"24px\" viewBox=\"0 -960 960 960\">\n",
              "    <path d=\"M120-120v-720h720v720H120Zm60-500h600v-160H180v160Zm220 220h160v-160H400v160Zm0 220h160v-160H400v160ZM180-400h160v-160H180v160Zm440 0h160v-160H620v160ZM180-180h160v-160H180v160Zm440 0h160v-160H620v160Z\"/>\n",
              "  </svg>\n",
              "    </button>\n",
              "\n",
              "  <style>\n",
              "    .colab-df-container {\n",
              "      display:flex;\n",
              "      gap: 12px;\n",
              "    }\n",
              "\n",
              "    .colab-df-convert {\n",
              "      background-color: #E8F0FE;\n",
              "      border: none;\n",
              "      border-radius: 50%;\n",
              "      cursor: pointer;\n",
              "      display: none;\n",
              "      fill: #1967D2;\n",
              "      height: 32px;\n",
              "      padding: 0 0 0 0;\n",
              "      width: 32px;\n",
              "    }\n",
              "\n",
              "    .colab-df-convert:hover {\n",
              "      background-color: #E2EBFA;\n",
              "      box-shadow: 0px 1px 2px rgba(60, 64, 67, 0.3), 0px 1px 3px 1px rgba(60, 64, 67, 0.15);\n",
              "      fill: #174EA6;\n",
              "    }\n",
              "\n",
              "    .colab-df-buttons div {\n",
              "      margin-bottom: 4px;\n",
              "    }\n",
              "\n",
              "    [theme=dark] .colab-df-convert {\n",
              "      background-color: #3B4455;\n",
              "      fill: #D2E3FC;\n",
              "    }\n",
              "\n",
              "    [theme=dark] .colab-df-convert:hover {\n",
              "      background-color: #434B5C;\n",
              "      box-shadow: 0px 1px 3px 1px rgba(0, 0, 0, 0.15);\n",
              "      filter: drop-shadow(0px 1px 2px rgba(0, 0, 0, 0.3));\n",
              "      fill: #FFFFFF;\n",
              "    }\n",
              "  </style>\n",
              "\n",
              "    <script>\n",
              "      const buttonEl =\n",
              "        document.querySelector('#df-390bb1a3-3757-42ac-9b7b-8421bc56cdae button.colab-df-convert');\n",
              "      buttonEl.style.display =\n",
              "        google.colab.kernel.accessAllowed ? 'block' : 'none';\n",
              "\n",
              "      async function convertToInteractive(key) {\n",
              "        const element = document.querySelector('#df-390bb1a3-3757-42ac-9b7b-8421bc56cdae');\n",
              "        const dataTable =\n",
              "          await google.colab.kernel.invokeFunction('convertToInteractive',\n",
              "                                                    [key], {});\n",
              "        if (!dataTable) return;\n",
              "\n",
              "        const docLinkHtml = 'Like what you see? Visit the ' +\n",
              "          '<a target=\"_blank\" href=https://colab.research.google.com/notebooks/data_table.ipynb>data table notebook</a>'\n",
              "          + ' to learn more about interactive tables.';\n",
              "        element.innerHTML = '';\n",
              "        dataTable['output_type'] = 'display_data';\n",
              "        await google.colab.output.renderOutput(dataTable, element);\n",
              "        const docLink = document.createElement('div');\n",
              "        docLink.innerHTML = docLinkHtml;\n",
              "        element.appendChild(docLink);\n",
              "      }\n",
              "    </script>\n",
              "  </div>\n",
              "\n",
              "\n",
              "<div id=\"df-c074a94b-92be-4868-88ab-5d7faf13e0e9\">\n",
              "  <button class=\"colab-df-quickchart\" onclick=\"quickchart('df-c074a94b-92be-4868-88ab-5d7faf13e0e9')\"\n",
              "            title=\"Suggest charts\"\n",
              "            style=\"display:none;\">\n",
              "\n",
              "<svg xmlns=\"http://www.w3.org/2000/svg\" height=\"24px\"viewBox=\"0 0 24 24\"\n",
              "     width=\"24px\">\n",
              "    <g>\n",
              "        <path d=\"M19 3H5c-1.1 0-2 .9-2 2v14c0 1.1.9 2 2 2h14c1.1 0 2-.9 2-2V5c0-1.1-.9-2-2-2zM9 17H7v-7h2v7zm4 0h-2V7h2v10zm4 0h-2v-4h2v4z\"/>\n",
              "    </g>\n",
              "</svg>\n",
              "  </button>\n",
              "\n",
              "<style>\n",
              "  .colab-df-quickchart {\n",
              "      --bg-color: #E8F0FE;\n",
              "      --fill-color: #1967D2;\n",
              "      --hover-bg-color: #E2EBFA;\n",
              "      --hover-fill-color: #174EA6;\n",
              "      --disabled-fill-color: #AAA;\n",
              "      --disabled-bg-color: #DDD;\n",
              "  }\n",
              "\n",
              "  [theme=dark] .colab-df-quickchart {\n",
              "      --bg-color: #3B4455;\n",
              "      --fill-color: #D2E3FC;\n",
              "      --hover-bg-color: #434B5C;\n",
              "      --hover-fill-color: #FFFFFF;\n",
              "      --disabled-bg-color: #3B4455;\n",
              "      --disabled-fill-color: #666;\n",
              "  }\n",
              "\n",
              "  .colab-df-quickchart {\n",
              "    background-color: var(--bg-color);\n",
              "    border: none;\n",
              "    border-radius: 50%;\n",
              "    cursor: pointer;\n",
              "    display: none;\n",
              "    fill: var(--fill-color);\n",
              "    height: 32px;\n",
              "    padding: 0;\n",
              "    width: 32px;\n",
              "  }\n",
              "\n",
              "  .colab-df-quickchart:hover {\n",
              "    background-color: var(--hover-bg-color);\n",
              "    box-shadow: 0 1px 2px rgba(60, 64, 67, 0.3), 0 1px 3px 1px rgba(60, 64, 67, 0.15);\n",
              "    fill: var(--button-hover-fill-color);\n",
              "  }\n",
              "\n",
              "  .colab-df-quickchart-complete:disabled,\n",
              "  .colab-df-quickchart-complete:disabled:hover {\n",
              "    background-color: var(--disabled-bg-color);\n",
              "    fill: var(--disabled-fill-color);\n",
              "    box-shadow: none;\n",
              "  }\n",
              "\n",
              "  .colab-df-spinner {\n",
              "    border: 2px solid var(--fill-color);\n",
              "    border-color: transparent;\n",
              "    border-bottom-color: var(--fill-color);\n",
              "    animation:\n",
              "      spin 1s steps(1) infinite;\n",
              "  }\n",
              "\n",
              "  @keyframes spin {\n",
              "    0% {\n",
              "      border-color: transparent;\n",
              "      border-bottom-color: var(--fill-color);\n",
              "      border-left-color: var(--fill-color);\n",
              "    }\n",
              "    20% {\n",
              "      border-color: transparent;\n",
              "      border-left-color: var(--fill-color);\n",
              "      border-top-color: var(--fill-color);\n",
              "    }\n",
              "    30% {\n",
              "      border-color: transparent;\n",
              "      border-left-color: var(--fill-color);\n",
              "      border-top-color: var(--fill-color);\n",
              "      border-right-color: var(--fill-color);\n",
              "    }\n",
              "    40% {\n",
              "      border-color: transparent;\n",
              "      border-right-color: var(--fill-color);\n",
              "      border-top-color: var(--fill-color);\n",
              "    }\n",
              "    60% {\n",
              "      border-color: transparent;\n",
              "      border-right-color: var(--fill-color);\n",
              "    }\n",
              "    80% {\n",
              "      border-color: transparent;\n",
              "      border-right-color: var(--fill-color);\n",
              "      border-bottom-color: var(--fill-color);\n",
              "    }\n",
              "    90% {\n",
              "      border-color: transparent;\n",
              "      border-bottom-color: var(--fill-color);\n",
              "    }\n",
              "  }\n",
              "</style>\n",
              "\n",
              "  <script>\n",
              "    async function quickchart(key) {\n",
              "      const quickchartButtonEl =\n",
              "        document.querySelector('#' + key + ' button');\n",
              "      quickchartButtonEl.disabled = true;  // To prevent multiple clicks.\n",
              "      quickchartButtonEl.classList.add('colab-df-spinner');\n",
              "      try {\n",
              "        const charts = await google.colab.kernel.invokeFunction(\n",
              "            'suggestCharts', [key], {});\n",
              "      } catch (error) {\n",
              "        console.error('Error during call to suggestCharts:', error);\n",
              "      }\n",
              "      quickchartButtonEl.classList.remove('colab-df-spinner');\n",
              "      quickchartButtonEl.classList.add('colab-df-quickchart-complete');\n",
              "    }\n",
              "    (() => {\n",
              "      let quickchartButtonEl =\n",
              "        document.querySelector('#df-c074a94b-92be-4868-88ab-5d7faf13e0e9 button');\n",
              "      quickchartButtonEl.style.display =\n",
              "        google.colab.kernel.accessAllowed ? 'block' : 'none';\n",
              "    })();\n",
              "  </script>\n",
              "</div>\n",
              "    </div>\n",
              "  </div>\n"
            ],
            "text/plain": [
              "        elevation  aspect  slope  horizontal_distance_to_hydrology  \\\n",
              "0            2590      56      2                               212   \n",
              "1            2804     139      9                               268   \n",
              "2            2785     155     18                               242   \n",
              "3            2595      45      2                               153   \n",
              "4            2579     132      6                               300   \n",
              "...           ...     ...    ...                               ...   \n",
              "581006       2396     153     20                                85   \n",
              "581007       2391     152     19                                67   \n",
              "581008       2386     159     17                                60   \n",
              "581009       2384     170     15                                60   \n",
              "581010       2383     165     13                                60   \n",
              "\n",
              "        vertical_distance_to_hydrology  horizontal_distance_to_roadways  \\\n",
              "0                                   -6                              390   \n",
              "1                                   65                             3180   \n",
              "2                                  118                             3090   \n",
              "3                                   -1                              391   \n",
              "4                                  -15                               67   \n",
              "...                                ...                              ...   \n",
              "581006                              17                              108   \n",
              "581007                              12                               95   \n",
              "581008                               7                               90   \n",
              "581009                               5                               90   \n",
              "581010                               4                               67   \n",
              "\n",
              "        hillshade_9am  hillshade_noon  hillshade_3pm  \\\n",
              "0                 220             235            151   \n",
              "1                 234             238            135   \n",
              "2                 238             238            122   \n",
              "3                 220             234            150   \n",
              "4                 230             237            140   \n",
              "...               ...             ...            ...   \n",
              "581006            240             237            118   \n",
              "581007            240             237            119   \n",
              "581008            236             241            130   \n",
              "581009            230             245            143   \n",
              "581010            231             244            141   \n",
              "\n",
              "        horizontal_distance_to_fire_points  ...  soil_type32  soil_type33  \\\n",
              "0                                     6225  ...            0            0   \n",
              "1                                     6121  ...            0            0   \n",
              "2                                     6211  ...            0            0   \n",
              "3                                     6172  ...            0            0   \n",
              "4                                     6031  ...            0            0   \n",
              "...                                    ...  ...          ...          ...   \n",
              "581006                                 837  ...            0            0   \n",
              "581007                                 845  ...            0            0   \n",
              "581008                                 854  ...            0            0   \n",
              "581009                                 864  ...            0            0   \n",
              "581010                                 875  ...            0            0   \n",
              "\n",
              "        soil_type34  soil_type35  soil_type36  soil_type37  soil_type38  \\\n",
              "0                 0            0            0            0            0   \n",
              "1                 0            0            0            0            0   \n",
              "2                 0            0            0            0            0   \n",
              "3                 0            0            0            0            0   \n",
              "4                 0            0            0            0            0   \n",
              "...             ...          ...          ...          ...          ...   \n",
              "581006            0            0            0            0            0   \n",
              "581007            0            0            0            0            0   \n",
              "581008            0            0            0            0            0   \n",
              "581009            0            0            0            0            0   \n",
              "581010            0            0            0            0            0   \n",
              "\n",
              "        soil_type39  soil_type40  cover_type  \n",
              "0                 0            0           5  \n",
              "1                 0            0           2  \n",
              "2                 0            0           2  \n",
              "3                 0            0           5  \n",
              "4                 0            0           2  \n",
              "...             ...          ...         ...  \n",
              "581006            0            0           3  \n",
              "581007            0            0           3  \n",
              "581008            0            0           3  \n",
              "581009            0            0           3  \n",
              "581010            0            0           3  \n",
              "\n",
              "[581011 rows x 55 columns]"
            ]
          },
          "execution_count": 28,
          "metadata": {},
          "output_type": "execute_result"
        }
      ],
      "source": [
        "df.columns = column_names     # replacing automatically generated numeric column names with proper column names\n",
        "df"
      ]
    },
    {
      "cell_type": "code",
      "execution_count": 29,
      "metadata": {
        "colab": {
          "base_uri": "https://localhost:8080/"
        },
        "id": "Cd-ne8xOYOUQ",
        "outputId": "199970d4-7a48-48c0-ec50-564c02883bd9"
      },
      "outputs": [
        {
          "data": {
            "text/plain": [
              "581011"
            ]
          },
          "execution_count": 29,
          "metadata": {},
          "output_type": "execute_result"
        }
      ],
      "source": [
        "original_length = len(df)\n",
        "original_length"
      ]
    },
    {
      "cell_type": "code",
      "execution_count": 30,
      "metadata": {
        "colab": {
          "base_uri": "https://localhost:8080/",
          "height": 349
        },
        "id": "Nj_g5fC4ItkG",
        "outputId": "296b5412-6fd2-4507-cced-c3e048d18dd2"
      },
      "outputs": [
        {
          "data": {
            "text/html": [
              "\n",
              "  <div id=\"df-c2f88eb0-a511-4c3c-9e4b-4af66e5ca6bb\" class=\"colab-df-container\">\n",
              "    <div>\n",
              "<style scoped>\n",
              "    .dataframe tbody tr th:only-of-type {\n",
              "        vertical-align: middle;\n",
              "    }\n",
              "\n",
              "    .dataframe tbody tr th {\n",
              "        vertical-align: top;\n",
              "    }\n",
              "\n",
              "    .dataframe thead th {\n",
              "        text-align: right;\n",
              "    }\n",
              "</style>\n",
              "<table border=\"1\" class=\"dataframe\">\n",
              "  <thead>\n",
              "    <tr style=\"text-align: right;\">\n",
              "      <th></th>\n",
              "      <th>elevation</th>\n",
              "      <th>aspect</th>\n",
              "      <th>slope</th>\n",
              "      <th>horizontal_distance_to_hydrology</th>\n",
              "      <th>vertical_distance_to_hydrology</th>\n",
              "      <th>horizontal_distance_to_roadways</th>\n",
              "      <th>hillshade_9am</th>\n",
              "      <th>hillshade_noon</th>\n",
              "      <th>hillshade_3pm</th>\n",
              "      <th>horizontal_distance_to_fire_points</th>\n",
              "      <th>...</th>\n",
              "      <th>soil_type32</th>\n",
              "      <th>soil_type33</th>\n",
              "      <th>soil_type34</th>\n",
              "      <th>soil_type35</th>\n",
              "      <th>soil_type36</th>\n",
              "      <th>soil_type37</th>\n",
              "      <th>soil_type38</th>\n",
              "      <th>soil_type39</th>\n",
              "      <th>soil_type40</th>\n",
              "      <th>cover_type</th>\n",
              "    </tr>\n",
              "  </thead>\n",
              "  <tbody>\n",
              "    <tr>\n",
              "      <th>count</th>\n",
              "      <td>581011.000000</td>\n",
              "      <td>581011.000000</td>\n",
              "      <td>581011.000000</td>\n",
              "      <td>581011.000000</td>\n",
              "      <td>581011.000000</td>\n",
              "      <td>581011.000000</td>\n",
              "      <td>581011.000000</td>\n",
              "      <td>581011.000000</td>\n",
              "      <td>581011.000000</td>\n",
              "      <td>581011.000000</td>\n",
              "      <td>...</td>\n",
              "      <td>581011.000000</td>\n",
              "      <td>581011.000000</td>\n",
              "      <td>581011.000000</td>\n",
              "      <td>581011.000000</td>\n",
              "      <td>581011.000000</td>\n",
              "      <td>581011.000000</td>\n",
              "      <td>581011.000000</td>\n",
              "      <td>581011.000000</td>\n",
              "      <td>581011.000000</td>\n",
              "      <td>581011.000000</td>\n",
              "    </tr>\n",
              "    <tr>\n",
              "      <th>mean</th>\n",
              "      <td>2959.365926</td>\n",
              "      <td>155.656988</td>\n",
              "      <td>14.103723</td>\n",
              "      <td>269.428236</td>\n",
              "      <td>46.418935</td>\n",
              "      <td>2350.149779</td>\n",
              "      <td>212.146033</td>\n",
              "      <td>223.318701</td>\n",
              "      <td>142.528253</td>\n",
              "      <td>1980.283828</td>\n",
              "      <td>...</td>\n",
              "      <td>0.090392</td>\n",
              "      <td>0.077716</td>\n",
              "      <td>0.002773</td>\n",
              "      <td>0.003255</td>\n",
              "      <td>0.000205</td>\n",
              "      <td>0.000513</td>\n",
              "      <td>0.026803</td>\n",
              "      <td>0.023762</td>\n",
              "      <td>0.015060</td>\n",
              "      <td>2.051465</td>\n",
              "    </tr>\n",
              "    <tr>\n",
              "      <th>std</th>\n",
              "      <td>279.984569</td>\n",
              "      <td>111.913733</td>\n",
              "      <td>7.488234</td>\n",
              "      <td>212.549538</td>\n",
              "      <td>58.295250</td>\n",
              "      <td>1559.254343</td>\n",
              "      <td>26.769909</td>\n",
              "      <td>19.768711</td>\n",
              "      <td>38.274561</td>\n",
              "      <td>1324.184340</td>\n",
              "      <td>...</td>\n",
              "      <td>0.286743</td>\n",
              "      <td>0.267725</td>\n",
              "      <td>0.052584</td>\n",
              "      <td>0.056957</td>\n",
              "      <td>0.014310</td>\n",
              "      <td>0.022641</td>\n",
              "      <td>0.161508</td>\n",
              "      <td>0.152307</td>\n",
              "      <td>0.121792</td>\n",
              "      <td>1.396500</td>\n",
              "    </tr>\n",
              "    <tr>\n",
              "      <th>min</th>\n",
              "      <td>1859.000000</td>\n",
              "      <td>0.000000</td>\n",
              "      <td>0.000000</td>\n",
              "      <td>0.000000</td>\n",
              "      <td>-173.000000</td>\n",
              "      <td>0.000000</td>\n",
              "      <td>0.000000</td>\n",
              "      <td>0.000000</td>\n",
              "      <td>0.000000</td>\n",
              "      <td>0.000000</td>\n",
              "      <td>...</td>\n",
              "      <td>0.000000</td>\n",
              "      <td>0.000000</td>\n",
              "      <td>0.000000</td>\n",
              "      <td>0.000000</td>\n",
              "      <td>0.000000</td>\n",
              "      <td>0.000000</td>\n",
              "      <td>0.000000</td>\n",
              "      <td>0.000000</td>\n",
              "      <td>0.000000</td>\n",
              "      <td>1.000000</td>\n",
              "    </tr>\n",
              "    <tr>\n",
              "      <th>25%</th>\n",
              "      <td>2809.000000</td>\n",
              "      <td>58.000000</td>\n",
              "      <td>9.000000</td>\n",
              "      <td>108.000000</td>\n",
              "      <td>7.000000</td>\n",
              "      <td>1106.000000</td>\n",
              "      <td>198.000000</td>\n",
              "      <td>213.000000</td>\n",
              "      <td>119.000000</td>\n",
              "      <td>1024.000000</td>\n",
              "      <td>...</td>\n",
              "      <td>0.000000</td>\n",
              "      <td>0.000000</td>\n",
              "      <td>0.000000</td>\n",
              "      <td>0.000000</td>\n",
              "      <td>0.000000</td>\n",
              "      <td>0.000000</td>\n",
              "      <td>0.000000</td>\n",
              "      <td>0.000000</td>\n",
              "      <td>0.000000</td>\n",
              "      <td>1.000000</td>\n",
              "    </tr>\n",
              "    <tr>\n",
              "      <th>50%</th>\n",
              "      <td>2996.000000</td>\n",
              "      <td>127.000000</td>\n",
              "      <td>13.000000</td>\n",
              "      <td>218.000000</td>\n",
              "      <td>30.000000</td>\n",
              "      <td>1997.000000</td>\n",
              "      <td>218.000000</td>\n",
              "      <td>226.000000</td>\n",
              "      <td>143.000000</td>\n",
              "      <td>1710.000000</td>\n",
              "      <td>...</td>\n",
              "      <td>0.000000</td>\n",
              "      <td>0.000000</td>\n",
              "      <td>0.000000</td>\n",
              "      <td>0.000000</td>\n",
              "      <td>0.000000</td>\n",
              "      <td>0.000000</td>\n",
              "      <td>0.000000</td>\n",
              "      <td>0.000000</td>\n",
              "      <td>0.000000</td>\n",
              "      <td>2.000000</td>\n",
              "    </tr>\n",
              "    <tr>\n",
              "      <th>75%</th>\n",
              "      <td>3163.000000</td>\n",
              "      <td>260.000000</td>\n",
              "      <td>18.000000</td>\n",
              "      <td>384.000000</td>\n",
              "      <td>69.000000</td>\n",
              "      <td>3328.000000</td>\n",
              "      <td>231.000000</td>\n",
              "      <td>237.000000</td>\n",
              "      <td>168.000000</td>\n",
              "      <td>2550.000000</td>\n",
              "      <td>...</td>\n",
              "      <td>0.000000</td>\n",
              "      <td>0.000000</td>\n",
              "      <td>0.000000</td>\n",
              "      <td>0.000000</td>\n",
              "      <td>0.000000</td>\n",
              "      <td>0.000000</td>\n",
              "      <td>0.000000</td>\n",
              "      <td>0.000000</td>\n",
              "      <td>0.000000</td>\n",
              "      <td>2.000000</td>\n",
              "    </tr>\n",
              "    <tr>\n",
              "      <th>max</th>\n",
              "      <td>3858.000000</td>\n",
              "      <td>360.000000</td>\n",
              "      <td>66.000000</td>\n",
              "      <td>1397.000000</td>\n",
              "      <td>601.000000</td>\n",
              "      <td>7117.000000</td>\n",
              "      <td>254.000000</td>\n",
              "      <td>254.000000</td>\n",
              "      <td>254.000000</td>\n",
              "      <td>7173.000000</td>\n",
              "      <td>...</td>\n",
              "      <td>1.000000</td>\n",
              "      <td>1.000000</td>\n",
              "      <td>1.000000</td>\n",
              "      <td>1.000000</td>\n",
              "      <td>1.000000</td>\n",
              "      <td>1.000000</td>\n",
              "      <td>1.000000</td>\n",
              "      <td>1.000000</td>\n",
              "      <td>1.000000</td>\n",
              "      <td>7.000000</td>\n",
              "    </tr>\n",
              "  </tbody>\n",
              "</table>\n",
              "<p>8 rows × 55 columns</p>\n",
              "</div>\n",
              "    <div class=\"colab-df-buttons\">\n",
              "\n",
              "  <div class=\"colab-df-container\">\n",
              "    <button class=\"colab-df-convert\" onclick=\"convertToInteractive('df-c2f88eb0-a511-4c3c-9e4b-4af66e5ca6bb')\"\n",
              "            title=\"Convert this dataframe to an interactive table.\"\n",
              "            style=\"display:none;\">\n",
              "\n",
              "  <svg xmlns=\"http://www.w3.org/2000/svg\" height=\"24px\" viewBox=\"0 -960 960 960\">\n",
              "    <path d=\"M120-120v-720h720v720H120Zm60-500h600v-160H180v160Zm220 220h160v-160H400v160Zm0 220h160v-160H400v160ZM180-400h160v-160H180v160Zm440 0h160v-160H620v160ZM180-180h160v-160H180v160Zm440 0h160v-160H620v160Z\"/>\n",
              "  </svg>\n",
              "    </button>\n",
              "\n",
              "  <style>\n",
              "    .colab-df-container {\n",
              "      display:flex;\n",
              "      gap: 12px;\n",
              "    }\n",
              "\n",
              "    .colab-df-convert {\n",
              "      background-color: #E8F0FE;\n",
              "      border: none;\n",
              "      border-radius: 50%;\n",
              "      cursor: pointer;\n",
              "      display: none;\n",
              "      fill: #1967D2;\n",
              "      height: 32px;\n",
              "      padding: 0 0 0 0;\n",
              "      width: 32px;\n",
              "    }\n",
              "\n",
              "    .colab-df-convert:hover {\n",
              "      background-color: #E2EBFA;\n",
              "      box-shadow: 0px 1px 2px rgba(60, 64, 67, 0.3), 0px 1px 3px 1px rgba(60, 64, 67, 0.15);\n",
              "      fill: #174EA6;\n",
              "    }\n",
              "\n",
              "    .colab-df-buttons div {\n",
              "      margin-bottom: 4px;\n",
              "    }\n",
              "\n",
              "    [theme=dark] .colab-df-convert {\n",
              "      background-color: #3B4455;\n",
              "      fill: #D2E3FC;\n",
              "    }\n",
              "\n",
              "    [theme=dark] .colab-df-convert:hover {\n",
              "      background-color: #434B5C;\n",
              "      box-shadow: 0px 1px 3px 1px rgba(0, 0, 0, 0.15);\n",
              "      filter: drop-shadow(0px 1px 2px rgba(0, 0, 0, 0.3));\n",
              "      fill: #FFFFFF;\n",
              "    }\n",
              "  </style>\n",
              "\n",
              "    <script>\n",
              "      const buttonEl =\n",
              "        document.querySelector('#df-c2f88eb0-a511-4c3c-9e4b-4af66e5ca6bb button.colab-df-convert');\n",
              "      buttonEl.style.display =\n",
              "        google.colab.kernel.accessAllowed ? 'block' : 'none';\n",
              "\n",
              "      async function convertToInteractive(key) {\n",
              "        const element = document.querySelector('#df-c2f88eb0-a511-4c3c-9e4b-4af66e5ca6bb');\n",
              "        const dataTable =\n",
              "          await google.colab.kernel.invokeFunction('convertToInteractive',\n",
              "                                                    [key], {});\n",
              "        if (!dataTable) return;\n",
              "\n",
              "        const docLinkHtml = 'Like what you see? Visit the ' +\n",
              "          '<a target=\"_blank\" href=https://colab.research.google.com/notebooks/data_table.ipynb>data table notebook</a>'\n",
              "          + ' to learn more about interactive tables.';\n",
              "        element.innerHTML = '';\n",
              "        dataTable['output_type'] = 'display_data';\n",
              "        await google.colab.output.renderOutput(dataTable, element);\n",
              "        const docLink = document.createElement('div');\n",
              "        docLink.innerHTML = docLinkHtml;\n",
              "        element.appendChild(docLink);\n",
              "      }\n",
              "    </script>\n",
              "  </div>\n",
              "\n",
              "\n",
              "<div id=\"df-aa4c6999-536c-46bf-821f-5e31b5d897b1\">\n",
              "  <button class=\"colab-df-quickchart\" onclick=\"quickchart('df-aa4c6999-536c-46bf-821f-5e31b5d897b1')\"\n",
              "            title=\"Suggest charts\"\n",
              "            style=\"display:none;\">\n",
              "\n",
              "<svg xmlns=\"http://www.w3.org/2000/svg\" height=\"24px\"viewBox=\"0 0 24 24\"\n",
              "     width=\"24px\">\n",
              "    <g>\n",
              "        <path d=\"M19 3H5c-1.1 0-2 .9-2 2v14c0 1.1.9 2 2 2h14c1.1 0 2-.9 2-2V5c0-1.1-.9-2-2-2zM9 17H7v-7h2v7zm4 0h-2V7h2v10zm4 0h-2v-4h2v4z\"/>\n",
              "    </g>\n",
              "</svg>\n",
              "  </button>\n",
              "\n",
              "<style>\n",
              "  .colab-df-quickchart {\n",
              "      --bg-color: #E8F0FE;\n",
              "      --fill-color: #1967D2;\n",
              "      --hover-bg-color: #E2EBFA;\n",
              "      --hover-fill-color: #174EA6;\n",
              "      --disabled-fill-color: #AAA;\n",
              "      --disabled-bg-color: #DDD;\n",
              "  }\n",
              "\n",
              "  [theme=dark] .colab-df-quickchart {\n",
              "      --bg-color: #3B4455;\n",
              "      --fill-color: #D2E3FC;\n",
              "      --hover-bg-color: #434B5C;\n",
              "      --hover-fill-color: #FFFFFF;\n",
              "      --disabled-bg-color: #3B4455;\n",
              "      --disabled-fill-color: #666;\n",
              "  }\n",
              "\n",
              "  .colab-df-quickchart {\n",
              "    background-color: var(--bg-color);\n",
              "    border: none;\n",
              "    border-radius: 50%;\n",
              "    cursor: pointer;\n",
              "    display: none;\n",
              "    fill: var(--fill-color);\n",
              "    height: 32px;\n",
              "    padding: 0;\n",
              "    width: 32px;\n",
              "  }\n",
              "\n",
              "  .colab-df-quickchart:hover {\n",
              "    background-color: var(--hover-bg-color);\n",
              "    box-shadow: 0 1px 2px rgba(60, 64, 67, 0.3), 0 1px 3px 1px rgba(60, 64, 67, 0.15);\n",
              "    fill: var(--button-hover-fill-color);\n",
              "  }\n",
              "\n",
              "  .colab-df-quickchart-complete:disabled,\n",
              "  .colab-df-quickchart-complete:disabled:hover {\n",
              "    background-color: var(--disabled-bg-color);\n",
              "    fill: var(--disabled-fill-color);\n",
              "    box-shadow: none;\n",
              "  }\n",
              "\n",
              "  .colab-df-spinner {\n",
              "    border: 2px solid var(--fill-color);\n",
              "    border-color: transparent;\n",
              "    border-bottom-color: var(--fill-color);\n",
              "    animation:\n",
              "      spin 1s steps(1) infinite;\n",
              "  }\n",
              "\n",
              "  @keyframes spin {\n",
              "    0% {\n",
              "      border-color: transparent;\n",
              "      border-bottom-color: var(--fill-color);\n",
              "      border-left-color: var(--fill-color);\n",
              "    }\n",
              "    20% {\n",
              "      border-color: transparent;\n",
              "      border-left-color: var(--fill-color);\n",
              "      border-top-color: var(--fill-color);\n",
              "    }\n",
              "    30% {\n",
              "      border-color: transparent;\n",
              "      border-left-color: var(--fill-color);\n",
              "      border-top-color: var(--fill-color);\n",
              "      border-right-color: var(--fill-color);\n",
              "    }\n",
              "    40% {\n",
              "      border-color: transparent;\n",
              "      border-right-color: var(--fill-color);\n",
              "      border-top-color: var(--fill-color);\n",
              "    }\n",
              "    60% {\n",
              "      border-color: transparent;\n",
              "      border-right-color: var(--fill-color);\n",
              "    }\n",
              "    80% {\n",
              "      border-color: transparent;\n",
              "      border-right-color: var(--fill-color);\n",
              "      border-bottom-color: var(--fill-color);\n",
              "    }\n",
              "    90% {\n",
              "      border-color: transparent;\n",
              "      border-bottom-color: var(--fill-color);\n",
              "    }\n",
              "  }\n",
              "</style>\n",
              "\n",
              "  <script>\n",
              "    async function quickchart(key) {\n",
              "      const quickchartButtonEl =\n",
              "        document.querySelector('#' + key + ' button');\n",
              "      quickchartButtonEl.disabled = true;  // To prevent multiple clicks.\n",
              "      quickchartButtonEl.classList.add('colab-df-spinner');\n",
              "      try {\n",
              "        const charts = await google.colab.kernel.invokeFunction(\n",
              "            'suggestCharts', [key], {});\n",
              "      } catch (error) {\n",
              "        console.error('Error during call to suggestCharts:', error);\n",
              "      }\n",
              "      quickchartButtonEl.classList.remove('colab-df-spinner');\n",
              "      quickchartButtonEl.classList.add('colab-df-quickchart-complete');\n",
              "    }\n",
              "    (() => {\n",
              "      let quickchartButtonEl =\n",
              "        document.querySelector('#df-aa4c6999-536c-46bf-821f-5e31b5d897b1 button');\n",
              "      quickchartButtonEl.style.display =\n",
              "        google.colab.kernel.accessAllowed ? 'block' : 'none';\n",
              "    })();\n",
              "  </script>\n",
              "</div>\n",
              "    </div>\n",
              "  </div>\n"
            ],
            "text/plain": [
              "           elevation         aspect          slope  \\\n",
              "count  581011.000000  581011.000000  581011.000000   \n",
              "mean     2959.365926     155.656988      14.103723   \n",
              "std       279.984569     111.913733       7.488234   \n",
              "min      1859.000000       0.000000       0.000000   \n",
              "25%      2809.000000      58.000000       9.000000   \n",
              "50%      2996.000000     127.000000      13.000000   \n",
              "75%      3163.000000     260.000000      18.000000   \n",
              "max      3858.000000     360.000000      66.000000   \n",
              "\n",
              "       horizontal_distance_to_hydrology  vertical_distance_to_hydrology  \\\n",
              "count                     581011.000000                   581011.000000   \n",
              "mean                         269.428236                       46.418935   \n",
              "std                          212.549538                       58.295250   \n",
              "min                            0.000000                     -173.000000   \n",
              "25%                          108.000000                        7.000000   \n",
              "50%                          218.000000                       30.000000   \n",
              "75%                          384.000000                       69.000000   \n",
              "max                         1397.000000                      601.000000   \n",
              "\n",
              "       horizontal_distance_to_roadways  hillshade_9am  hillshade_noon  \\\n",
              "count                    581011.000000  581011.000000   581011.000000   \n",
              "mean                       2350.149779     212.146033      223.318701   \n",
              "std                        1559.254343      26.769909       19.768711   \n",
              "min                           0.000000       0.000000        0.000000   \n",
              "25%                        1106.000000     198.000000      213.000000   \n",
              "50%                        1997.000000     218.000000      226.000000   \n",
              "75%                        3328.000000     231.000000      237.000000   \n",
              "max                        7117.000000     254.000000      254.000000   \n",
              "\n",
              "       hillshade_3pm  horizontal_distance_to_fire_points  ...    soil_type32  \\\n",
              "count  581011.000000                       581011.000000  ...  581011.000000   \n",
              "mean      142.528253                         1980.283828  ...       0.090392   \n",
              "std        38.274561                         1324.184340  ...       0.286743   \n",
              "min         0.000000                            0.000000  ...       0.000000   \n",
              "25%       119.000000                         1024.000000  ...       0.000000   \n",
              "50%       143.000000                         1710.000000  ...       0.000000   \n",
              "75%       168.000000                         2550.000000  ...       0.000000   \n",
              "max       254.000000                         7173.000000  ...       1.000000   \n",
              "\n",
              "         soil_type33    soil_type34    soil_type35    soil_type36  \\\n",
              "count  581011.000000  581011.000000  581011.000000  581011.000000   \n",
              "mean        0.077716       0.002773       0.003255       0.000205   \n",
              "std         0.267725       0.052584       0.056957       0.014310   \n",
              "min         0.000000       0.000000       0.000000       0.000000   \n",
              "25%         0.000000       0.000000       0.000000       0.000000   \n",
              "50%         0.000000       0.000000       0.000000       0.000000   \n",
              "75%         0.000000       0.000000       0.000000       0.000000   \n",
              "max         1.000000       1.000000       1.000000       1.000000   \n",
              "\n",
              "         soil_type37    soil_type38    soil_type39    soil_type40  \\\n",
              "count  581011.000000  581011.000000  581011.000000  581011.000000   \n",
              "mean        0.000513       0.026803       0.023762       0.015060   \n",
              "std         0.022641       0.161508       0.152307       0.121792   \n",
              "min         0.000000       0.000000       0.000000       0.000000   \n",
              "25%         0.000000       0.000000       0.000000       0.000000   \n",
              "50%         0.000000       0.000000       0.000000       0.000000   \n",
              "75%         0.000000       0.000000       0.000000       0.000000   \n",
              "max         1.000000       1.000000       1.000000       1.000000   \n",
              "\n",
              "          cover_type  \n",
              "count  581011.000000  \n",
              "mean        2.051465  \n",
              "std         1.396500  \n",
              "min         1.000000  \n",
              "25%         1.000000  \n",
              "50%         2.000000  \n",
              "75%         2.000000  \n",
              "max         7.000000  \n",
              "\n",
              "[8 rows x 55 columns]"
            ]
          },
          "execution_count": 30,
          "metadata": {},
          "output_type": "execute_result"
        }
      ],
      "source": [
        "df.describe()"
      ]
    },
    {
      "cell_type": "code",
      "execution_count": 31,
      "metadata": {
        "colab": {
          "base_uri": "https://localhost:8080/"
        },
        "id": "DS4ct_aTIyL4",
        "outputId": "44eeb9eb-53a4-464b-ccea-a3f789221771"
      },
      "outputs": [
        {
          "name": "stdout",
          "output_type": "stream",
          "text": [
            "<class 'pandas.core.frame.DataFrame'>\n",
            "RangeIndex: 581011 entries, 0 to 581010\n",
            "Data columns (total 55 columns):\n",
            " #   Column                              Non-Null Count   Dtype\n",
            "---  ------                              --------------   -----\n",
            " 0   elevation                           581011 non-null  int64\n",
            " 1   aspect                              581011 non-null  int64\n",
            " 2   slope                               581011 non-null  int64\n",
            " 3   horizontal_distance_to_hydrology    581011 non-null  int64\n",
            " 4   vertical_distance_to_hydrology      581011 non-null  int64\n",
            " 5   horizontal_distance_to_roadways     581011 non-null  int64\n",
            " 6   hillshade_9am                       581011 non-null  int64\n",
            " 7   hillshade_noon                      581011 non-null  int64\n",
            " 8   hillshade_3pm                       581011 non-null  int64\n",
            " 9   horizontal_distance_to_fire_points  581011 non-null  int64\n",
            " 10  wilderness_area1                    581011 non-null  int64\n",
            " 11  wilderness_area2                    581011 non-null  int64\n",
            " 12  wilderness_area3                    581011 non-null  int64\n",
            " 13  wilderness_area4                    581011 non-null  int64\n",
            " 14  soil_type1                          581011 non-null  int64\n",
            " 15  soil_type2                          581011 non-null  int64\n",
            " 16  soil_type3                          581011 non-null  int64\n",
            " 17  soil_type4                          581011 non-null  int64\n",
            " 18  soil_type5                          581011 non-null  int64\n",
            " 19  soil_type6                          581011 non-null  int64\n",
            " 20  soil_type7                          581011 non-null  int64\n",
            " 21  soil_type8                          581011 non-null  int64\n",
            " 22  soil_type9                          581011 non-null  int64\n",
            " 23  soil_type10                         581011 non-null  int64\n",
            " 24  soil_type11                         581011 non-null  int64\n",
            " 25  soil_type12                         581011 non-null  int64\n",
            " 26  soil_type13                         581011 non-null  int64\n",
            " 27  soil_type14                         581011 non-null  int64\n",
            " 28  soil_type15                         581011 non-null  int64\n",
            " 29  soil_type16                         581011 non-null  int64\n",
            " 30  soil_type17                         581011 non-null  int64\n",
            " 31  soil_type18                         581011 non-null  int64\n",
            " 32  soil_type19                         581011 non-null  int64\n",
            " 33  soil_type20                         581011 non-null  int64\n",
            " 34  soil_type21                         581011 non-null  int64\n",
            " 35  soil_type22                         581011 non-null  int64\n",
            " 36  soil_type23                         581011 non-null  int64\n",
            " 37  soil_type24                         581011 non-null  int64\n",
            " 38  soil_type25                         581011 non-null  int64\n",
            " 39  soil_type26                         581011 non-null  int64\n",
            " 40  soil_type27                         581011 non-null  int64\n",
            " 41  soil_type28                         581011 non-null  int64\n",
            " 42  soil_type29                         581011 non-null  int64\n",
            " 43  soil_type30                         581011 non-null  int64\n",
            " 44  soil_type31                         581011 non-null  int64\n",
            " 45  soil_type32                         581011 non-null  int64\n",
            " 46  soil_type33                         581011 non-null  int64\n",
            " 47  soil_type34                         581011 non-null  int64\n",
            " 48  soil_type35                         581011 non-null  int64\n",
            " 49  soil_type36                         581011 non-null  int64\n",
            " 50  soil_type37                         581011 non-null  int64\n",
            " 51  soil_type38                         581011 non-null  int64\n",
            " 52  soil_type39                         581011 non-null  int64\n",
            " 53  soil_type40                         581011 non-null  int64\n",
            " 54  cover_type                          581011 non-null  int64\n",
            "dtypes: int64(55)\n",
            "memory usage: 243.8 MB\n"
          ]
        }
      ],
      "source": [
        "df.info()"
      ]
    },
    {
      "cell_type": "code",
      "execution_count": 32,
      "metadata": {
        "id": "OdLFvzIHYOUW"
      },
      "outputs": [],
      "source": [
        "# To get a feel of the data a line chart is plotted\n",
        "fig = px.line(df, x=df.index, y= df.columns, title='                     Covertype column values vs samples')\n",
        "fig.show()"
      ]
    },
    {
      "cell_type": "markdown",
      "metadata": {
        "id": "vQM38eJuYOUX"
      },
      "source": [
        "# 1. Preprocessing"
      ]
    },
    {
      "cell_type": "markdown",
      "metadata": {
        "id": "ftBHvFmDYOUY"
      },
      "source": [
        "### Dropping all rows with missing values"
      ]
    },
    {
      "cell_type": "code",
      "execution_count": 33,
      "metadata": {
        "id": "Jf7wWWcNYOUZ"
      },
      "outputs": [],
      "source": [
        "df = df.dropna()\n",
        "len_after_na_drop = len(df)\n",
        "print(f\"The number of raws with missing values that have been dropped is {len_after_na_drop-original_length}\")  # there should be none as the dataset obtained mentions that it has none"
      ]
    },
    {
      "cell_type": "markdown",
      "metadata": {
        "id": "FJU8M2OvYOUZ"
      },
      "source": [
        "Eventhough all the columns are numeric, some of them are categorical and need not be normalised. This is provided by the by the dataset description."
      ]
    },
    {
      "cell_type": "markdown",
      "metadata": {
        "id": "epfsJgpHYOUa"
      },
      "source": [
        "=> Extracting the quantitative columns, that have continuously values."
      ]
    },
    {
      "cell_type": "code",
      "execution_count": 34,
      "metadata": {
        "id": "2mKqFYPBYOUa"
      },
      "outputs": [],
      "source": [
        "# Extracting the quantiative columns, which are the first 10 columns\n",
        "quantitative_columns = column_names[:10]   # the names of the columns are the numbers ranging from 0 to 54 in this project\n",
        "print(\"The quantiative/continous columns are: \", quantitative_columns,'\\n\\nThe dataframe created from those columns is:')\n",
        "\n",
        "# Creating a dataframe of the quantiative columns only\n",
        "quantitative_columns_df = df[quantitative_columns]\n",
        "quantitative_columns_df"
      ]
    },
    {
      "cell_type": "markdown",
      "metadata": {
        "id": "ebp3yl60YOUb"
      },
      "source": [
        "=> Extracting the categorical columns."
      ]
    },
    {
      "cell_type": "code",
      "execution_count": 35,
      "metadata": {
        "id": "lW9hch_nYOUc"
      },
      "outputs": [],
      "source": [
        "# Extracting the categorical columns, which are the columns from index 10 - 54 of the column names list\n",
        "categorical_columns = column_names[10:54]\n",
        "print(\"The Categorical columns are: \", categorical_columns,'\\n\\nThe dataframe created from those columns is:')\n",
        "\n",
        "# Creating a dataframe of the categorical columns only\n",
        "categorical_columns_df = df[categorical_columns]   # creating a categorical dataframe\n",
        "categorical_columns_df"
      ]
    },
    {
      "cell_type": "markdown",
      "metadata": {
        "id": "Rs-TmAvYYOUc"
      },
      "source": [
        "Once the quantiative columns have been extracted, we can normalise the dataframe of the quantiative columns. It would meaning meaningless to normalise the categorical columns."
      ]
    },
    {
      "cell_type": "code",
      "execution_count": 36,
      "metadata": {
        "id": "wEjY73KCYOUd"
      },
      "outputs": [],
      "source": [
        "# Normalizing the quantitative columns and storing them in a new dataframe, quantitative_normalised_columns_df\n",
        "quantitative_normalised_columns_df = stats.zscore(quantitative_columns_df)\n",
        "\n",
        "# Updating the original dataframe with the normalised quantiative columns\n",
        "for i in quantitative_columns:\n",
        "    df[i] = quantitative_normalised_columns_df[i]"
      ]
    },
    {
      "cell_type": "code",
      "execution_count": 70,
      "metadata": {
        "colab": {
          "base_uri": "https://localhost:8080/",
          "height": 443
        },
        "id": "D3O9IO3CYOUd",
        "outputId": "56c601df-9c28-4903-a87b-926633bc0122"
      },
      "outputs": [
        {
          "data": {
            "text/html": [
              "\n",
              "  <div id=\"df-65b0c74a-adc1-428b-8640-152b788f014a\" class=\"colab-df-container\">\n",
              "    <div>\n",
              "<style scoped>\n",
              "    .dataframe tbody tr th:only-of-type {\n",
              "        vertical-align: middle;\n",
              "    }\n",
              "\n",
              "    .dataframe tbody tr th {\n",
              "        vertical-align: top;\n",
              "    }\n",
              "\n",
              "    .dataframe thead th {\n",
              "        text-align: right;\n",
              "    }\n",
              "</style>\n",
              "<table border=\"1\" class=\"dataframe\">\n",
              "  <thead>\n",
              "    <tr style=\"text-align: right;\">\n",
              "      <th></th>\n",
              "      <th>elevation</th>\n",
              "      <th>aspect</th>\n",
              "      <th>slope</th>\n",
              "      <th>horizontal_distance_to_hydrology</th>\n",
              "      <th>vertical_distance_to_hydrology</th>\n",
              "      <th>horizontal_distance_to_roadways</th>\n",
              "      <th>hillshade_9am</th>\n",
              "      <th>hillshade_noon</th>\n",
              "      <th>hillshade_3pm</th>\n",
              "      <th>horizontal_distance_to_fire_points</th>\n",
              "      <th>...</th>\n",
              "      <th>soil_type32</th>\n",
              "      <th>soil_type33</th>\n",
              "      <th>soil_type34</th>\n",
              "      <th>soil_type35</th>\n",
              "      <th>soil_type36</th>\n",
              "      <th>soil_type37</th>\n",
              "      <th>soil_type38</th>\n",
              "      <th>soil_type39</th>\n",
              "      <th>soil_type40</th>\n",
              "      <th>cover_type</th>\n",
              "    </tr>\n",
              "  </thead>\n",
              "  <tbody>\n",
              "    <tr>\n",
              "      <th>0</th>\n",
              "      <td>-1.319238</td>\n",
              "      <td>-0.890481</td>\n",
              "      <td>-1.616367</td>\n",
              "      <td>-0.270188</td>\n",
              "      <td>-0.899198</td>\n",
              "      <td>-1.257108</td>\n",
              "      <td>0.293388</td>\n",
              "      <td>0.590899</td>\n",
              "      <td>0.221342</td>\n",
              "      <td>3.205535</td>\n",
              "      <td>...</td>\n",
              "      <td>0</td>\n",
              "      <td>0</td>\n",
              "      <td>0</td>\n",
              "      <td>0</td>\n",
              "      <td>0</td>\n",
              "      <td>0</td>\n",
              "      <td>0</td>\n",
              "      <td>0</td>\n",
              "      <td>0</td>\n",
              "      <td>5</td>\n",
              "    </tr>\n",
              "    <tr>\n",
              "      <th>1</th>\n",
              "      <td>-0.554909</td>\n",
              "      <td>-0.148838</td>\n",
              "      <td>-0.681566</td>\n",
              "      <td>-0.006720</td>\n",
              "      <td>0.318741</td>\n",
              "      <td>0.532210</td>\n",
              "      <td>0.816364</td>\n",
              "      <td>0.742654</td>\n",
              "      <td>-0.196691</td>\n",
              "      <td>3.126996</td>\n",
              "      <td>...</td>\n",
              "      <td>0</td>\n",
              "      <td>0</td>\n",
              "      <td>0</td>\n",
              "      <td>0</td>\n",
              "      <td>0</td>\n",
              "      <td>0</td>\n",
              "      <td>0</td>\n",
              "      <td>0</td>\n",
              "      <td>0</td>\n",
              "      <td>2</td>\n",
              "    </tr>\n",
              "    <tr>\n",
              "      <th>2</th>\n",
              "      <td>-0.622770</td>\n",
              "      <td>-0.005870</td>\n",
              "      <td>0.520320</td>\n",
              "      <td>-0.129044</td>\n",
              "      <td>1.227907</td>\n",
              "      <td>0.474490</td>\n",
              "      <td>0.965785</td>\n",
              "      <td>0.742654</td>\n",
              "      <td>-0.536342</td>\n",
              "      <td>3.194963</td>\n",
              "      <td>...</td>\n",
              "      <td>0</td>\n",
              "      <td>0</td>\n",
              "      <td>0</td>\n",
              "      <td>0</td>\n",
              "      <td>0</td>\n",
              "      <td>0</td>\n",
              "      <td>0</td>\n",
              "      <td>0</td>\n",
              "      <td>0</td>\n",
              "      <td>2</td>\n",
              "    </tr>\n",
              "    <tr>\n",
              "      <th>3</th>\n",
              "      <td>-1.301380</td>\n",
              "      <td>-0.988771</td>\n",
              "      <td>-1.616367</td>\n",
              "      <td>-0.547770</td>\n",
              "      <td>-0.813428</td>\n",
              "      <td>-1.256467</td>\n",
              "      <td>0.293388</td>\n",
              "      <td>0.540314</td>\n",
              "      <td>0.195215</td>\n",
              "      <td>3.165511</td>\n",
              "      <td>...</td>\n",
              "      <td>0</td>\n",
              "      <td>0</td>\n",
              "      <td>0</td>\n",
              "      <td>0</td>\n",
              "      <td>0</td>\n",
              "      <td>0</td>\n",
              "      <td>0</td>\n",
              "      <td>0</td>\n",
              "      <td>0</td>\n",
              "      <td>5</td>\n",
              "    </tr>\n",
              "    <tr>\n",
              "      <th>4</th>\n",
              "      <td>-1.358526</td>\n",
              "      <td>-0.211386</td>\n",
              "      <td>-1.082195</td>\n",
              "      <td>0.143834</td>\n",
              "      <td>-1.053585</td>\n",
              "      <td>-1.464259</td>\n",
              "      <td>0.666942</td>\n",
              "      <td>0.692069</td>\n",
              "      <td>-0.066056</td>\n",
              "      <td>3.059030</td>\n",
              "      <td>...</td>\n",
              "      <td>0</td>\n",
              "      <td>0</td>\n",
              "      <td>0</td>\n",
              "      <td>0</td>\n",
              "      <td>0</td>\n",
              "      <td>0</td>\n",
              "      <td>0</td>\n",
              "      <td>0</td>\n",
              "      <td>0</td>\n",
              "      <td>2</td>\n",
              "    </tr>\n",
              "    <tr>\n",
              "      <th>...</th>\n",
              "      <td>...</td>\n",
              "      <td>...</td>\n",
              "      <td>...</td>\n",
              "      <td>...</td>\n",
              "      <td>...</td>\n",
              "      <td>...</td>\n",
              "      <td>...</td>\n",
              "      <td>...</td>\n",
              "      <td>...</td>\n",
              "      <td>...</td>\n",
              "      <td>...</td>\n",
              "      <td>...</td>\n",
              "      <td>...</td>\n",
              "      <td>...</td>\n",
              "      <td>...</td>\n",
              "      <td>...</td>\n",
              "      <td>...</td>\n",
              "      <td>...</td>\n",
              "      <td>...</td>\n",
              "      <td>...</td>\n",
              "      <td>...</td>\n",
              "    </tr>\n",
              "    <tr>\n",
              "      <th>581006</th>\n",
              "      <td>-2.012134</td>\n",
              "      <td>-0.023741</td>\n",
              "      <td>0.787406</td>\n",
              "      <td>-0.867696</td>\n",
              "      <td>-0.504655</td>\n",
              "      <td>-1.437964</td>\n",
              "      <td>1.040496</td>\n",
              "      <td>0.692069</td>\n",
              "      <td>-0.640851</td>\n",
              "      <td>-0.863388</td>\n",
              "      <td>...</td>\n",
              "      <td>0</td>\n",
              "      <td>0</td>\n",
              "      <td>0</td>\n",
              "      <td>0</td>\n",
              "      <td>0</td>\n",
              "      <td>0</td>\n",
              "      <td>0</td>\n",
              "      <td>0</td>\n",
              "      <td>0</td>\n",
              "      <td>3</td>\n",
              "    </tr>\n",
              "    <tr>\n",
              "      <th>581007</th>\n",
              "      <td>-2.029992</td>\n",
              "      <td>-0.032677</td>\n",
              "      <td>0.653863</td>\n",
              "      <td>-0.952382</td>\n",
              "      <td>-0.590425</td>\n",
              "      <td>-1.446301</td>\n",
              "      <td>1.040496</td>\n",
              "      <td>0.692069</td>\n",
              "      <td>-0.614724</td>\n",
              "      <td>-0.857346</td>\n",
              "      <td>...</td>\n",
              "      <td>0</td>\n",
              "      <td>0</td>\n",
              "      <td>0</td>\n",
              "      <td>0</td>\n",
              "      <td>0</td>\n",
              "      <td>0</td>\n",
              "      <td>0</td>\n",
              "      <td>0</td>\n",
              "      <td>0</td>\n",
              "      <td>3</td>\n",
              "    </tr>\n",
              "    <tr>\n",
              "      <th>581008</th>\n",
              "      <td>-2.047850</td>\n",
              "      <td>0.029871</td>\n",
              "      <td>0.386777</td>\n",
              "      <td>-0.985316</td>\n",
              "      <td>-0.676195</td>\n",
              "      <td>-1.449508</td>\n",
              "      <td>0.891075</td>\n",
              "      <td>0.894409</td>\n",
              "      <td>-0.327326</td>\n",
              "      <td>-0.850550</td>\n",
              "      <td>...</td>\n",
              "      <td>0</td>\n",
              "      <td>0</td>\n",
              "      <td>0</td>\n",
              "      <td>0</td>\n",
              "      <td>0</td>\n",
              "      <td>0</td>\n",
              "      <td>0</td>\n",
              "      <td>0</td>\n",
              "      <td>0</td>\n",
              "      <td>3</td>\n",
              "    </tr>\n",
              "    <tr>\n",
              "      <th>581009</th>\n",
              "      <td>-2.054993</td>\n",
              "      <td>0.128161</td>\n",
              "      <td>0.119692</td>\n",
              "      <td>-0.985316</td>\n",
              "      <td>-0.710503</td>\n",
              "      <td>-1.449508</td>\n",
              "      <td>0.666942</td>\n",
              "      <td>1.096749</td>\n",
              "      <td>0.012325</td>\n",
              "      <td>-0.842998</td>\n",
              "      <td>...</td>\n",
              "      <td>0</td>\n",
              "      <td>0</td>\n",
              "      <td>0</td>\n",
              "      <td>0</td>\n",
              "      <td>0</td>\n",
              "      <td>0</td>\n",
              "      <td>0</td>\n",
              "      <td>0</td>\n",
              "      <td>0</td>\n",
              "      <td>3</td>\n",
              "    </tr>\n",
              "    <tr>\n",
              "      <th>581010</th>\n",
              "      <td>-2.058565</td>\n",
              "      <td>0.083484</td>\n",
              "      <td>-0.147394</td>\n",
              "      <td>-0.985316</td>\n",
              "      <td>-0.727657</td>\n",
              "      <td>-1.464259</td>\n",
              "      <td>0.704298</td>\n",
              "      <td>1.046164</td>\n",
              "      <td>-0.039929</td>\n",
              "      <td>-0.834691</td>\n",
              "      <td>...</td>\n",
              "      <td>0</td>\n",
              "      <td>0</td>\n",
              "      <td>0</td>\n",
              "      <td>0</td>\n",
              "      <td>0</td>\n",
              "      <td>0</td>\n",
              "      <td>0</td>\n",
              "      <td>0</td>\n",
              "      <td>0</td>\n",
              "      <td>3</td>\n",
              "    </tr>\n",
              "  </tbody>\n",
              "</table>\n",
              "<p>581011 rows × 55 columns</p>\n",
              "</div>\n",
              "    <div class=\"colab-df-buttons\">\n",
              "\n",
              "  <div class=\"colab-df-container\">\n",
              "    <button class=\"colab-df-convert\" onclick=\"convertToInteractive('df-65b0c74a-adc1-428b-8640-152b788f014a')\"\n",
              "            title=\"Convert this dataframe to an interactive table.\"\n",
              "            style=\"display:none;\">\n",
              "\n",
              "  <svg xmlns=\"http://www.w3.org/2000/svg\" height=\"24px\" viewBox=\"0 -960 960 960\">\n",
              "    <path d=\"M120-120v-720h720v720H120Zm60-500h600v-160H180v160Zm220 220h160v-160H400v160Zm0 220h160v-160H400v160ZM180-400h160v-160H180v160Zm440 0h160v-160H620v160ZM180-180h160v-160H180v160Zm440 0h160v-160H620v160Z\"/>\n",
              "  </svg>\n",
              "    </button>\n",
              "\n",
              "  <style>\n",
              "    .colab-df-container {\n",
              "      display:flex;\n",
              "      gap: 12px;\n",
              "    }\n",
              "\n",
              "    .colab-df-convert {\n",
              "      background-color: #E8F0FE;\n",
              "      border: none;\n",
              "      border-radius: 50%;\n",
              "      cursor: pointer;\n",
              "      display: none;\n",
              "      fill: #1967D2;\n",
              "      height: 32px;\n",
              "      padding: 0 0 0 0;\n",
              "      width: 32px;\n",
              "    }\n",
              "\n",
              "    .colab-df-convert:hover {\n",
              "      background-color: #E2EBFA;\n",
              "      box-shadow: 0px 1px 2px rgba(60, 64, 67, 0.3), 0px 1px 3px 1px rgba(60, 64, 67, 0.15);\n",
              "      fill: #174EA6;\n",
              "    }\n",
              "\n",
              "    .colab-df-buttons div {\n",
              "      margin-bottom: 4px;\n",
              "    }\n",
              "\n",
              "    [theme=dark] .colab-df-convert {\n",
              "      background-color: #3B4455;\n",
              "      fill: #D2E3FC;\n",
              "    }\n",
              "\n",
              "    [theme=dark] .colab-df-convert:hover {\n",
              "      background-color: #434B5C;\n",
              "      box-shadow: 0px 1px 3px 1px rgba(0, 0, 0, 0.15);\n",
              "      filter: drop-shadow(0px 1px 2px rgba(0, 0, 0, 0.3));\n",
              "      fill: #FFFFFF;\n",
              "    }\n",
              "  </style>\n",
              "\n",
              "    <script>\n",
              "      const buttonEl =\n",
              "        document.querySelector('#df-65b0c74a-adc1-428b-8640-152b788f014a button.colab-df-convert');\n",
              "      buttonEl.style.display =\n",
              "        google.colab.kernel.accessAllowed ? 'block' : 'none';\n",
              "\n",
              "      async function convertToInteractive(key) {\n",
              "        const element = document.querySelector('#df-65b0c74a-adc1-428b-8640-152b788f014a');\n",
              "        const dataTable =\n",
              "          await google.colab.kernel.invokeFunction('convertToInteractive',\n",
              "                                                    [key], {});\n",
              "        if (!dataTable) return;\n",
              "\n",
              "        const docLinkHtml = 'Like what you see? Visit the ' +\n",
              "          '<a target=\"_blank\" href=https://colab.research.google.com/notebooks/data_table.ipynb>data table notebook</a>'\n",
              "          + ' to learn more about interactive tables.';\n",
              "        element.innerHTML = '';\n",
              "        dataTable['output_type'] = 'display_data';\n",
              "        await google.colab.output.renderOutput(dataTable, element);\n",
              "        const docLink = document.createElement('div');\n",
              "        docLink.innerHTML = docLinkHtml;\n",
              "        element.appendChild(docLink);\n",
              "      }\n",
              "    </script>\n",
              "  </div>\n",
              "\n",
              "\n",
              "<div id=\"df-4cfb2588-e2c9-4fcc-83ef-faf1c369ef49\">\n",
              "  <button class=\"colab-df-quickchart\" onclick=\"quickchart('df-4cfb2588-e2c9-4fcc-83ef-faf1c369ef49')\"\n",
              "            title=\"Suggest charts\"\n",
              "            style=\"display:none;\">\n",
              "\n",
              "<svg xmlns=\"http://www.w3.org/2000/svg\" height=\"24px\"viewBox=\"0 0 24 24\"\n",
              "     width=\"24px\">\n",
              "    <g>\n",
              "        <path d=\"M19 3H5c-1.1 0-2 .9-2 2v14c0 1.1.9 2 2 2h14c1.1 0 2-.9 2-2V5c0-1.1-.9-2-2-2zM9 17H7v-7h2v7zm4 0h-2V7h2v10zm4 0h-2v-4h2v4z\"/>\n",
              "    </g>\n",
              "</svg>\n",
              "  </button>\n",
              "\n",
              "<style>\n",
              "  .colab-df-quickchart {\n",
              "      --bg-color: #E8F0FE;\n",
              "      --fill-color: #1967D2;\n",
              "      --hover-bg-color: #E2EBFA;\n",
              "      --hover-fill-color: #174EA6;\n",
              "      --disabled-fill-color: #AAA;\n",
              "      --disabled-bg-color: #DDD;\n",
              "  }\n",
              "\n",
              "  [theme=dark] .colab-df-quickchart {\n",
              "      --bg-color: #3B4455;\n",
              "      --fill-color: #D2E3FC;\n",
              "      --hover-bg-color: #434B5C;\n",
              "      --hover-fill-color: #FFFFFF;\n",
              "      --disabled-bg-color: #3B4455;\n",
              "      --disabled-fill-color: #666;\n",
              "  }\n",
              "\n",
              "  .colab-df-quickchart {\n",
              "    background-color: var(--bg-color);\n",
              "    border: none;\n",
              "    border-radius: 50%;\n",
              "    cursor: pointer;\n",
              "    display: none;\n",
              "    fill: var(--fill-color);\n",
              "    height: 32px;\n",
              "    padding: 0;\n",
              "    width: 32px;\n",
              "  }\n",
              "\n",
              "  .colab-df-quickchart:hover {\n",
              "    background-color: var(--hover-bg-color);\n",
              "    box-shadow: 0 1px 2px rgba(60, 64, 67, 0.3), 0 1px 3px 1px rgba(60, 64, 67, 0.15);\n",
              "    fill: var(--button-hover-fill-color);\n",
              "  }\n",
              "\n",
              "  .colab-df-quickchart-complete:disabled,\n",
              "  .colab-df-quickchart-complete:disabled:hover {\n",
              "    background-color: var(--disabled-bg-color);\n",
              "    fill: var(--disabled-fill-color);\n",
              "    box-shadow: none;\n",
              "  }\n",
              "\n",
              "  .colab-df-spinner {\n",
              "    border: 2px solid var(--fill-color);\n",
              "    border-color: transparent;\n",
              "    border-bottom-color: var(--fill-color);\n",
              "    animation:\n",
              "      spin 1s steps(1) infinite;\n",
              "  }\n",
              "\n",
              "  @keyframes spin {\n",
              "    0% {\n",
              "      border-color: transparent;\n",
              "      border-bottom-color: var(--fill-color);\n",
              "      border-left-color: var(--fill-color);\n",
              "    }\n",
              "    20% {\n",
              "      border-color: transparent;\n",
              "      border-left-color: var(--fill-color);\n",
              "      border-top-color: var(--fill-color);\n",
              "    }\n",
              "    30% {\n",
              "      border-color: transparent;\n",
              "      border-left-color: var(--fill-color);\n",
              "      border-top-color: var(--fill-color);\n",
              "      border-right-color: var(--fill-color);\n",
              "    }\n",
              "    40% {\n",
              "      border-color: transparent;\n",
              "      border-right-color: var(--fill-color);\n",
              "      border-top-color: var(--fill-color);\n",
              "    }\n",
              "    60% {\n",
              "      border-color: transparent;\n",
              "      border-right-color: var(--fill-color);\n",
              "    }\n",
              "    80% {\n",
              "      border-color: transparent;\n",
              "      border-right-color: var(--fill-color);\n",
              "      border-bottom-color: var(--fill-color);\n",
              "    }\n",
              "    90% {\n",
              "      border-color: transparent;\n",
              "      border-bottom-color: var(--fill-color);\n",
              "    }\n",
              "  }\n",
              "</style>\n",
              "\n",
              "  <script>\n",
              "    async function quickchart(key) {\n",
              "      const quickchartButtonEl =\n",
              "        document.querySelector('#' + key + ' button');\n",
              "      quickchartButtonEl.disabled = true;  // To prevent multiple clicks.\n",
              "      quickchartButtonEl.classList.add('colab-df-spinner');\n",
              "      try {\n",
              "        const charts = await google.colab.kernel.invokeFunction(\n",
              "            'suggestCharts', [key], {});\n",
              "      } catch (error) {\n",
              "        console.error('Error during call to suggestCharts:', error);\n",
              "      }\n",
              "      quickchartButtonEl.classList.remove('colab-df-spinner');\n",
              "      quickchartButtonEl.classList.add('colab-df-quickchart-complete');\n",
              "    }\n",
              "    (() => {\n",
              "      let quickchartButtonEl =\n",
              "        document.querySelector('#df-4cfb2588-e2c9-4fcc-83ef-faf1c369ef49 button');\n",
              "      quickchartButtonEl.style.display =\n",
              "        google.colab.kernel.accessAllowed ? 'block' : 'none';\n",
              "    })();\n",
              "  </script>\n",
              "</div>\n",
              "    </div>\n",
              "  </div>\n"
            ],
            "text/plain": [
              "        elevation    aspect     slope  horizontal_distance_to_hydrology  \\\n",
              "0       -1.319238 -0.890481 -1.616367                         -0.270188   \n",
              "1       -0.554909 -0.148838 -0.681566                         -0.006720   \n",
              "2       -0.622770 -0.005870  0.520320                         -0.129044   \n",
              "3       -1.301380 -0.988771 -1.616367                         -0.547770   \n",
              "4       -1.358526 -0.211386 -1.082195                          0.143834   \n",
              "...           ...       ...       ...                               ...   \n",
              "581006  -2.012134 -0.023741  0.787406                         -0.867696   \n",
              "581007  -2.029992 -0.032677  0.653863                         -0.952382   \n",
              "581008  -2.047850  0.029871  0.386777                         -0.985316   \n",
              "581009  -2.054993  0.128161  0.119692                         -0.985316   \n",
              "581010  -2.058565  0.083484 -0.147394                         -0.985316   \n",
              "\n",
              "        vertical_distance_to_hydrology  horizontal_distance_to_roadways  \\\n",
              "0                            -0.899198                        -1.257108   \n",
              "1                             0.318741                         0.532210   \n",
              "2                             1.227907                         0.474490   \n",
              "3                            -0.813428                        -1.256467   \n",
              "4                            -1.053585                        -1.464259   \n",
              "...                                ...                              ...   \n",
              "581006                       -0.504655                        -1.437964   \n",
              "581007                       -0.590425                        -1.446301   \n",
              "581008                       -0.676195                        -1.449508   \n",
              "581009                       -0.710503                        -1.449508   \n",
              "581010                       -0.727657                        -1.464259   \n",
              "\n",
              "        hillshade_9am  hillshade_noon  hillshade_3pm  \\\n",
              "0            0.293388        0.590899       0.221342   \n",
              "1            0.816364        0.742654      -0.196691   \n",
              "2            0.965785        0.742654      -0.536342   \n",
              "3            0.293388        0.540314       0.195215   \n",
              "4            0.666942        0.692069      -0.066056   \n",
              "...               ...             ...            ...   \n",
              "581006       1.040496        0.692069      -0.640851   \n",
              "581007       1.040496        0.692069      -0.614724   \n",
              "581008       0.891075        0.894409      -0.327326   \n",
              "581009       0.666942        1.096749       0.012325   \n",
              "581010       0.704298        1.046164      -0.039929   \n",
              "\n",
              "        horizontal_distance_to_fire_points  ...  soil_type32  soil_type33  \\\n",
              "0                                 3.205535  ...            0            0   \n",
              "1                                 3.126996  ...            0            0   \n",
              "2                                 3.194963  ...            0            0   \n",
              "3                                 3.165511  ...            0            0   \n",
              "4                                 3.059030  ...            0            0   \n",
              "...                                    ...  ...          ...          ...   \n",
              "581006                           -0.863388  ...            0            0   \n",
              "581007                           -0.857346  ...            0            0   \n",
              "581008                           -0.850550  ...            0            0   \n",
              "581009                           -0.842998  ...            0            0   \n",
              "581010                           -0.834691  ...            0            0   \n",
              "\n",
              "        soil_type34  soil_type35  soil_type36  soil_type37  soil_type38  \\\n",
              "0                 0            0            0            0            0   \n",
              "1                 0            0            0            0            0   \n",
              "2                 0            0            0            0            0   \n",
              "3                 0            0            0            0            0   \n",
              "4                 0            0            0            0            0   \n",
              "...             ...          ...          ...          ...          ...   \n",
              "581006            0            0            0            0            0   \n",
              "581007            0            0            0            0            0   \n",
              "581008            0            0            0            0            0   \n",
              "581009            0            0            0            0            0   \n",
              "581010            0            0            0            0            0   \n",
              "\n",
              "        soil_type39  soil_type40  cover_type  \n",
              "0                 0            0           5  \n",
              "1                 0            0           2  \n",
              "2                 0            0           2  \n",
              "3                 0            0           5  \n",
              "4                 0            0           2  \n",
              "...             ...          ...         ...  \n",
              "581006            0            0           3  \n",
              "581007            0            0           3  \n",
              "581008            0            0           3  \n",
              "581009            0            0           3  \n",
              "581010            0            0           3  \n",
              "\n",
              "[581011 rows x 55 columns]"
            ]
          },
          "execution_count": 70,
          "metadata": {},
          "output_type": "execute_result"
        }
      ],
      "source": [
        "# Making a copy of the original dataframe to preserve the data as a reference\n",
        "\n",
        "new_df = df.copy()     # a copy of the original dataframe\n",
        "new_df"
      ]
    },
    {
      "cell_type": "markdown",
      "metadata": {
        "id": "oPxH37K7YOUd"
      },
      "source": [
        "### Checking for outliers"
      ]
    },
    {
      "cell_type": "markdown",
      "metadata": {
        "id": "Q6lNII_nYOUe"
      },
      "source": [
        "Checking for outliers only on the quantitative / continues columns only using the BOX-WHISKER PLOT"
      ]
    },
    {
      "cell_type": "code",
      "execution_count": null,
      "metadata": {
        "id": "26nfRLRxYOUe"
      },
      "outputs": [],
      "source": [
        "np.arange(2,12)\n",
        "quantitative_columns"
      ]
    },
    {
      "cell_type": "code",
      "execution_count": null,
      "metadata": {
        "id": "3L6rCqpcYOUf"
      },
      "outputs": [],
      "source": [
        "fig, axs = plt.subplots()\n",
        "fig.set_size_inches(20,10)\n",
        "plt.xticks(np.arange(2,12), quantitative_columns)\n",
        "plt.xlabel(\"Columns\")\n",
        "plt.ylabel(\"standard deviation\")\n",
        "plt.title(\"Box Plot of the columns of the quantiative columns\")\n",
        "_=plt.boxplot(quantitative_normalised_columns_df, vert = True)"
      ]
    },
    {
      "cell_type": "code",
      "execution_count": null,
      "metadata": {
        "id": "eVFe6ShWYOUf"
      },
      "outputs": [],
      "source": [
        "quantitative_normalised_columns_df"
      ]
    },
    {
      "cell_type": "markdown",
      "metadata": {
        "id": "LZNAgpUhYOUi"
      },
      "source": [
        "From the box-whisker plot above it is clear that there are outliers in the data"
      ]
    },
    {
      "cell_type": "code",
      "execution_count": null,
      "metadata": {
        "id": "51c1lWjsYOUj"
      },
      "outputs": [],
      "source": [
        "def IQR_outlier_handler(series_input):\n",
        "    \"\"\" A function to return the indices of rows that contain outlier values of the series_input\n",
        "\n",
        "    Args:\n",
        "        series_input: a quantitative column that has continuous values\n",
        "\n",
        "    Returns:\n",
        "        a list of indices of values in series that are outliers\n",
        "    \"\"\"\n",
        "    Q1 = series_input.quantile(0.25)\n",
        "    Q3 = series_input.quantile(0.75)\n",
        "\n",
        "    IQR = Q3 - Q1                      #IQR is interquartile range.\n",
        "\n",
        "    lower_bound = Q1-1.1*IQR        # the common factor multiplied by IQR is 1.5 but we can contraol the values of k based on the standard deviation to not be tolerated\n",
        "    higher_bound = Q3 + 1.1*IQR\n",
        "\n",
        "    outlier_indices = list()  # a list to store indices of outlier values\n",
        "\n",
        "    # a for loop to iterate over all values of a column and check for outlier values\n",
        "    for k in range(len(series_input)):\n",
        "        if ((series_input[k]> higher_bound) or (series_input[k]< lower_bound)):   # checking if a value is an outlier\n",
        "            outlier_indices.append(k)\n",
        "\n",
        "    return  outlier_indices\n",
        "\n",
        "# Alternative code to find the indices of the rows that need to be dropped instead of IQR but directly by finding rows that exceed certain threshold\n",
        "\n",
        "# outlier_detector = (quantitative_normalised_columns_df>1.5) | (quantitative_normalised_columns_df<-1.5)\n",
        "# list_backup = list()\n",
        "# for i in range(len(outlier_detector)):\n",
        "#     if True in outlier_detector.iloc[i].values:\n",
        "#         list_backup.append(i)\n",
        "\n",
        "# len(list_backup)\n",
        "# outlier_detector"
      ]
    },
    {
      "cell_type": "code",
      "execution_count": null,
      "metadata": {
        "id": "IBlQOR0NYOUj"
      },
      "outputs": [],
      "source": [
        "df_outlier_indices = list()  # a list to store the unique index number of all rows in the dataframe that contain outlier values, that are to be dropped later\n",
        "\n",
        "# Iterating over every column and identifying the rows/ indices that contain outlier values\n",
        "for i in quantitative_columns:\n",
        "    series_instance = quantitative_normalised_columns_df[i]   # a series selected\n",
        "    outlier_indexes = IQR_outlier_handler(series_instance)    # applying\n",
        "    for ind in outlier_indexes:\n",
        "        if ind not in df_outlier_indices:\n",
        "            df_outlier_indices.append(ind)\n",
        "print(f\"According to the BOX-WHISKER plot and IQR detection the number of rows with outlier values is: {len(df_outlier_indices)}\\n\")\n",
        "print(f\"The outlier indices are: {df_outlier_indices}\")"
      ]
    },
    {
      "cell_type": "code",
      "execution_count": null,
      "metadata": {
        "id": "yNiAwhNVYOUk"
      },
      "outputs": [],
      "source": [
        "new_df.drop(index=df_outlier_indices, inplace = True)\n",
        "quantitative_normalised_columns_df.drop(index=df_outlier_indices, inplace = True)   #updating the quantiatitve_normalised_columns_df as well\n",
        "\n",
        "len_after_outlier_drop = len(new_df)\n",
        "print(f\"--> {len_after_na_drop-len_after_outlier_drop} rows with outliers dropped have been dropped after BOX-WHISKER plot and IQR \")"
      ]
    },
    {
      "cell_type": "code",
      "execution_count": null,
      "metadata": {
        "id": "bK8ZuFInYOUk"
      },
      "outputs": [],
      "source": [
        "new_df"
      ]
    },
    {
      "cell_type": "markdown",
      "metadata": {
        "id": "nGZtGc1DYOUl"
      },
      "source": [
        "# 2. Exploratory Data Analysis"
      ]
    },
    {
      "cell_type": "markdown",
      "metadata": {
        "id": "Y4gVCqvvYOUl"
      },
      "source": [
        "## Extensive Visualisation\n",
        "\n",
        "- Visualisation of the quantitative columns.\n",
        "- visualisation of the categorical columns.\n",
        "- visualisation of the classes."
      ]
    },
    {
      "cell_type": "markdown",
      "metadata": {
        "id": "NpNqLTa6YOUm"
      },
      "source": [
        "### 2.1 Class Labels"
      ]
    },
    {
      "cell_type": "code",
      "execution_count": null,
      "metadata": {
        "id": "yvyWT1tzYOUm"
      },
      "outputs": [],
      "source": [
        "class_labels = np.unique(new_df['cover_type'].values)\n",
        "class_labels"
      ]
    },
    {
      "cell_type": "code",
      "execution_count": null,
      "metadata": {
        "id": "aMG0P72JYOUm"
      },
      "outputs": [],
      "source": [
        "class_label1 = new_df.loc[new_df['cover_type']==1]\n",
        "len_class_label1 = len(class_label1)\n",
        "print(f\"number of class label 1 is: {len_class_label1}\")\n",
        "\n",
        "class_label2 = new_df.loc[new_df['cover_type']==2]\n",
        "len_class_label2 = len(class_label2)\n",
        "print(f\"number of class label 2 is: {len_class_label2}\")\n",
        "\n",
        "class_label3 = new_df.loc[new_df['cover_type']==3]\n",
        "len_class_label3 = len(class_label3)\n",
        "print(f\"number of class label 3 is: {len_class_label3}\")\n",
        "\n",
        "class_label4 = new_df.loc[new_df['cover_type']==4]\n",
        "len_class_label4 = len(class_label4)\n",
        "print(f\"number of class label 4 is: {len_class_label4}\")\n",
        "\n",
        "class_label5 = new_df.loc[new_df['cover_type']==5]\n",
        "len_class_label5 = len(class_label5)\n",
        "print(f\"number of class label 5 is: {len_class_label5}\")\n",
        "\n",
        "class_label6 = new_df.loc[new_df['cover_type']==6]\n",
        "len_class_label6 = len(class_label6)\n",
        "print(f\"number of class label 6 is: {len_class_label6}\")\n",
        "\n",
        "class_label7 = new_df.loc[new_df['cover_type']==7]\n",
        "len_class_label7 = len(class_label7)\n",
        "print(f\"number of class label 7 is: {len_class_label7}\")"
      ]
    },
    {
      "cell_type": "code",
      "execution_count": null,
      "metadata": {
        "id": "B3KHLM_xYOUn"
      },
      "outputs": [],
      "source": [
        "fig = px.bar(x=np.arange(1,8), y=np.array([len_class_label1,len_class_label2,len_class_label3,len_class_label4,len_class_label5,len_class_label6,len_class_label7]), text_auto='.2s', title=\"Plot of frequency of each class label \")\n",
        "fig.show()"
      ]
    },
    {
      "cell_type": "markdown",
      "metadata": {
        "id": "U5TuMirKYOUn"
      },
      "source": [
        "The data is not imbalanced, but different weights will be assigned to each class, according to their size, when evaluating the precision of a model."
      ]
    },
    {
      "cell_type": "markdown",
      "metadata": {
        "id": "E5t_3tGdYOVG"
      },
      "source": [
        "### 2.2 Feature columns"
      ]
    },
    {
      "cell_type": "markdown",
      "metadata": {
        "id": "3S0KdkgxYOVH"
      },
      "source": [
        "#### 2.2.1 Visualizing the categorical columns separately due to their different meaning and values than the quantitative values"
      ]
    },
    {
      "cell_type": "code",
      "execution_count": null,
      "metadata": {
        "id": "B0e9Q4rPYOVH"
      },
      "outputs": [],
      "source": [
        "fig, ax = plt.subplots()\n",
        "fig.set_size_inches(20, 8)\n",
        "_=plt.plot(categorical_columns_df, label = categorical_columns_df.columns)\n",
        "_=plt.title(\"Categorical columns plot\")\n",
        "_=plt.xlabel(\"Categorical columns\")\n",
        "_=plt.ylabel(\"Corresponding values\")\n",
        "_=plt.legend()"
      ]
    },
    {
      "cell_type": "markdown",
      "metadata": {
        "id": "5wEiczGeYOVI"
      },
      "source": [
        "- In the plot, the 44 categorical columns have only two values each, 0 (absence) and 1 (presence) of a feature, and that's why the lines line chart shows vertical lines transitioning between values 0 and 1.\n",
        "\n",
        "- Some of the columns might have the same constant value throught the whole dataset.\n",
        "\n",
        "- If such column/feature exists, then it will be dropped as it is meaningless in predicing the output if it is the same value throughout.\n",
        "\n",
        "- Thus, categorical values need to be checked for such behavior."
      ]
    },
    {
      "cell_type": "code",
      "execution_count": null,
      "metadata": {
        "id": "YLsGvGIJYOVI"
      },
      "outputs": [],
      "source": [
        "def constant_value_checker(series_to_be_checked):\n",
        "    \"\"\"A function that takes a series/column as an input and checks if it is a constant value througought all samples, to be used for categorical columns.\n",
        "\n",
        "    Args:\n",
        "        series (_type_): takes column values to be checked\n",
        "\n",
        "    Returns:\n",
        "        boolean _type_: returns True if it is a horizontal line, with constant value across all samples; it returns false otherwise.\n",
        "    \"\"\"\n",
        "    is_flat = False\n",
        "    if len(np.unique(series_to_be_checked))==1:   # if it has one value either 0 or 1 throught the whole dataset, then return true\n",
        "        is_flat = True\n",
        "\n",
        "    return is_flat"
      ]
    },
    {
      "cell_type": "code",
      "execution_count": null,
      "metadata": {
        "id": "ESPOFHcMYOVI"
      },
      "outputs": [],
      "source": [
        "columns_to_be_dropped = list()   # a list to store columns,meaningless, with constant values throughout all the samples\n",
        "\n",
        "# a for loop to iterate over all the categorical columns one by one\n",
        "for col in categorical_columns_df:\n",
        "\n",
        "    is_it_flat = constant_value_checker(categorical_columns_df[col].values)  # calling the function constant_value_checker to check if all the values of a series are the same\n",
        "    if is_it_flat:      # if so, then to be dropped later, we append the column name into the columns_to_be_dropped list\n",
        "        columns_to_be_dropped.append(col)\n",
        "\n",
        "print(f\"There are {len(columns_to_be_dropped)} columns that have one value throught all the samples.\\nThe colulmns names are: {columns_to_be_dropped}\")"
      ]
    },
    {
      "cell_type": "code",
      "execution_count": null,
      "metadata": {
        "id": "ku6MSk8oYOVJ"
      },
      "outputs": [],
      "source": [
        "# Dropping the categorical columns that have unchanging value from the new_df and the categorical_columns_df\n",
        "\n",
        "new_df.drop( columns = columns_to_be_dropped, inplace = True )\n",
        "categorical_columns_df = categorical_columns_df.drop( columns = columns_to_be_dropped, inplace = True )"
      ]
    },
    {
      "cell_type": "code",
      "execution_count": null,
      "metadata": {
        "id": "Ky4KYixXYOVJ"
      },
      "outputs": [],
      "source": [
        "column_names"
      ]
    },
    {
      "cell_type": "markdown",
      "metadata": {
        "id": "mX7Pu6LkYOVK"
      },
      "source": [
        "#### 2.2.2 Visualising quantiative columns, the first 10 columns"
      ]
    },
    {
      "cell_type": "code",
      "execution_count": null,
      "metadata": {
        "id": "Htf_tp6gYOVK"
      },
      "outputs": [],
      "source": [
        "# first row\n",
        "fig, axes = plt.subplots(3,3)\n",
        "fig.set_size_inches(20,8)\n",
        "axes[0, 0].plot(new_df.index, new_df[column_names[0]])\n",
        "axes[0, 0].set_title(\"0\")\n",
        "axes[0, 1].plot(new_df.index, new_df[column_names[1]])\n",
        "axes[0, 1].set_title(\"1\")\n",
        "axes[0, 2].plot(new_df.index, new_df[column_names[2]])\n",
        "axes[0, 2].set_title(\"2\")\n",
        "# second row\n",
        "axes[1, 0].plot(new_df.index, new_df[column_names[3]])\n",
        "axes[1, 0].set_title(\"3\")\n",
        "axes[1, 1].plot(new_df.index, new_df[column_names[4]])\n",
        "axes[1, 1].set_title(\"4\")\n",
        "axes[1, 2].plot(new_df.index, new_df[column_names[5]])\n",
        "axes[1, 2].set_title(\"5\")\n",
        "# third row\n",
        "axes[2, 0].plot(new_df.index, new_df[column_names[6]])\n",
        "axes[2, 0].set_title(\"6\")\n",
        "axes[2, 1].plot(new_df.index, new_df[column_names[7]])\n",
        "axes[2, 1].set_title(\"7\")\n"
      ]
    },
    {
      "cell_type": "code",
      "execution_count": null,
      "metadata": {
        "id": "RgVDRYhCYOVL"
      },
      "outputs": [],
      "source": [
        "# first row\n",
        "fig, axes = plt.subplots(3,3)\n",
        "fig.set_size_inches(20,8)\n",
        "axes[0, 0].scatter(new_df.index, new_df[column_names[0]])\n",
        "axes[0, 0].set_title(\"0\")\n",
        "axes[0, 1].scatter(new_df.index, new_df[column_names[1]])\n",
        "axes[0, 1].set_title(\"1\")\n",
        "axes[0, 2].scatter(new_df.index, new_df[column_names[2]])\n",
        "axes[0, 2].set_title(\"2\")\n",
        "# second row\n",
        "axes[1, 0].scatter(new_df.index, new_df[column_names[3]])\n",
        "axes[1, 0].set_title(\"3\")\n",
        "axes[1, 1].scatter(new_df.index, new_df[column_names[4]])\n",
        "axes[1, 1].set_title(\"4\")\n",
        "axes[1, 2].scatter(new_df.index, new_df[column_names[5]])\n",
        "axes[1, 2].set_title(\"5\")\n",
        "# third row\n",
        "axes[2, 0].scatter(new_df.index, new_df[column_names[6]])\n",
        "axes[2, 0].set_title(\"6\")\n",
        "axes[2, 1].scatter(new_df.index, new_df[column_names[7]])\n",
        "axes[2, 1].set_title(\"7\")\n"
      ]
    },
    {
      "cell_type": "markdown",
      "metadata": {
        "id": "wznO9tYwYOVL"
      },
      "source": [
        "##### 2.2.2.1 Correlation matrix of quantitative columns"
      ]
    },
    {
      "cell_type": "markdown",
      "metadata": {
        "id": "j7M8Dr4gYOVM"
      },
      "source": [
        "- A strong correlation between two columns indicates that the two columns concerned provide similar information in the data, making one of them reduandant.\n",
        "\n",
        "- This could ,first , worsen the performance of our model by masking other patterns displayed in our data. Secondly, it adds unnecessary complexity to our model.\n",
        "\n",
        "- Both strong positive annd strong negative correlations provide the same insight of redundancy among columns - just in different ways, where positive correlation indicates that the two columns increase simultaneously negative correlation indicates that one of the columns increases when the other decreases, or vice versa.\n",
        "\n",
        "- Therefore, such columns will be identified and one column from the pair of columns with strong correlation will be dropped.\n",
        "\n",
        "- The threshold for strong correlation between two columns in this project will be set to 0.7."
      ]
    },
    {
      "cell_type": "code",
      "execution_count": null,
      "metadata": {
        "id": "EvTZXge4YOVM"
      },
      "outputs": [],
      "source": [
        "correlated_new_df = quantitative_normalised_columns_df.corr()\n",
        "correlated_new_df"
      ]
    },
    {
      "cell_type": "markdown",
      "metadata": {
        "id": "801Umm2wYOVN"
      },
      "source": [
        "A heatmap of the correlation matrix using seaborn"
      ]
    },
    {
      "cell_type": "code",
      "execution_count": null,
      "metadata": {
        "id": "YreC1wN5YOVN"
      },
      "outputs": [],
      "source": [
        "fig, ax = plt.subplots(figsize=(18, 8))                                          # using matplotlib's plt with seaborn to set to change the size of the correlation matrix\n",
        "plt.title(\"Heatmap of the corerlation of the quantitative columns\")              # again using matplotlib's plt to display the title of the heatmap plot\n",
        "sns.heatmap(correlated_new_df.values,xticklabels = correlated_new_df.columns, yticklabels= correlated_new_df.columns, cmap = 'coolwarm',annot = True)  # viridis, Spectral"
      ]
    },
    {
      "cell_type": "markdown",
      "metadata": {
        "id": "_a4QwMcZYOVO"
      },
      "source": [
        "From the heatmap plot of the correlation matrix it is evidient that there are columns that display strong correlation. These columns shall be identified, and dropped."
      ]
    },
    {
      "cell_type": "markdown",
      "metadata": {
        "id": "1xzM-MfyYOVO"
      },
      "source": [
        "The correlation between the most correlated columns can be visualised using the histogram plot of the actual normalised data."
      ]
    },
    {
      "cell_type": "code",
      "execution_count": null,
      "metadata": {
        "id": "XFWaAAh0YOVP"
      },
      "outputs": [],
      "source": [
        "fig,ax = plt.subplots()\n",
        "\n",
        "fig.set_size_inches(16,8)\n",
        "plt.hist(new_df['aspect'],bins=50, color='blue', label = 'aspect')\n",
        "plt.title(\"Histogram of most correlated columns\")\n",
        "plt.hist(new_df['horizontal_distance_to_fire_points'],bins=50, color='orange',alpha=0.5, label = 'horizontal_distance_to_fire_points')\n",
        "plt.legend()\n",
        "plt.show()"
      ]
    },
    {
      "cell_type": "markdown",
      "metadata": {
        "id": "08xCcLKTYOVQ"
      },
      "source": [
        "The histogram plot supports the correlation values of the two most correlated columns."
      ]
    },
    {
      "cell_type": "code",
      "execution_count": null,
      "metadata": {
        "id": "SiN5xCUeYOVR"
      },
      "outputs": [],
      "source": [
        "def strongly_correlated_columns_finder(correlated_df, strong_threshold):\n",
        "    \"\"\"A function that takes a dataframe that has column names as its indexes. Those rows, which are columns definitely have strong correlation.\n",
        "    The purpose of this function is to find the pairing column from the correlation matrix that results in strong correlation by iterating over all the columsn.\n",
        "\n",
        "    Args:\n",
        "        correlated_df (_type_): _description_\n",
        "        strong_threshold (_type_): a threshold value that determines if a pair of columns have strong correlation, effectively determining redundant columns.\n",
        "\n",
        "    Returns:\n",
        "        A list of tuples, column pairs, that have strong correlation.\n",
        "    \"\"\"\n",
        "    correlated_columns_tuple = list()\n",
        "    # for loop to iterate over the columns that have strong correlation, that are indexes in the correlated_df\n",
        "    for j in correlated_df.index:\n",
        "        # for loop to iterate over all the columns of the original data, to identify those that have strong correlation with the selected column j\n",
        "        for k in correlated_df:\n",
        "            correlation_value = correlated_df[k].loc[j]      # obtaining a correlation value\n",
        "\n",
        "            # checking if value indicates strong corerelation by taking the absolute value of correlation value\n",
        "            if (abs(correlation_value)>strong_threshold and abs(correlation_value < 1)):\n",
        "                # checking if the pair fo columns doesn't already exist in the list\n",
        "                if ((k,j) not in correlated_columns_tuple):\n",
        "                    correlated_columns_tuple.append((j,k))     # saving the corresponding columns that have a strong correlation\n",
        "                    print(f\"Strongly-correlated pair {(j,k)} \")\n",
        "\n",
        "    return correlated_columns_tuple"
      ]
    },
    {
      "cell_type": "code",
      "execution_count": null,
      "metadata": {
        "id": "-d4vyJ9zYOVR"
      },
      "outputs": [],
      "source": [
        "strong_threshold = 0.68\n",
        "strongly_correlated_metrices = list()\n",
        "\n",
        "# extracting the strongly correlated columns: strong positive correlation and strong negative correlation\n",
        "strong_corr_entries_df = correlated_new_df[(((correlated_new_df.values>strong_threshold) & (correlated_new_df.values!=1.00))|\n",
        "                                          ((correlated_new_df.values< -strong_threshold) & (correlated_new_df.values!=-1.00)))]\n",
        "\"\"\"\n",
        "trong_corr_positive df extracts a dataframe with all columns of the correlation matrix but only the rows(which are also column names) that definitely have strong correlation\n",
        "values by utilising the strong_threshold to determine the rows with strong correlation values.\n",
        "This is computationally efficient, instead of checking for strong correlation across rows against all columns of the correlation matrix\n",
        "we only check those rows that have strong correlation against all the columns to find their counteraprt columns that result in strong correlation\n",
        "\"\"\"\n",
        "print(f\"The content of the strong_corr_entries_df with entries that contain strong correlation values is: \")\n",
        "display(strong_corr_entries_df)"
      ]
    },
    {
      "cell_type": "markdown",
      "metadata": {
        "id": "7tXRfDy3YOVS"
      },
      "source": [
        "Identifying all the column pairs that result in strong correlation using the strongly_correlated_columns_finder() function"
      ]
    },
    {
      "cell_type": "code",
      "execution_count": null,
      "metadata": {
        "id": "aLt54381YOVS"
      },
      "outputs": [],
      "source": [
        "correlated_columns_pairs = strongly_correlated_columns_finder(strong_corr_entries_df, strong_threshold)"
      ]
    },
    {
      "cell_type": "markdown",
      "metadata": {
        "id": "2TW2wySkYOVS"
      },
      "source": [
        "Dropping all the redundant columns from the pairs strong correlation column pairs"
      ]
    },
    {
      "cell_type": "code",
      "execution_count": null,
      "metadata": {
        "id": "Fh7r2S5mYOVT"
      },
      "outputs": [],
      "source": [
        "def drop_redundant_columns(column_pairs):\n",
        "\n",
        "    unique_redundant_columns = list()  # a list to store columns that are redundant from every pair\n",
        "\n",
        "    # Extracting the unique column values\n",
        "    columns_keys_crude = list()\n",
        "    for i in column_pairs:\n",
        "        columns_keys_crude.append(i[0])\n",
        "        columns_keys_crude.append(i[1])\n",
        "    columns_keys = np.unique(np.array(columns_keys_crude))\n",
        "\n",
        "    # A dictionary of the frequency of unique column in the pairs\n",
        "    frequency_dict = {}\n",
        "    for j in columns_keys:\n",
        "        frequency_dict[j] = columns_keys_crude.count(j)\n",
        "\n",
        "    # iterating over every strong correlation pair of columns\n",
        "    for j in column_pairs:\n",
        "        column0 = j[0]    # we will select the first element of the tuple element as the redundant column, to be dropped later\n",
        "        column1 = j[1]\n",
        "        redundant_column = column0   #initializing the redundant_column value with the first column's name\n",
        "\n",
        "        # The column that occurs most in many pairs should be the one selected as a redundant\n",
        "        if frequency_dict[column0]<frequency_dict[column1]:\n",
        "            redundant_column = column1\n",
        "\n",
        "\n",
        "        # Checking if the first pair columns aren't already selected as redundant before\n",
        "        if (column0 not in unique_redundant_columns) and (column1 not in unique_redundant_columns):\n",
        "            unique_redundant_columns.append(redundant_column)     # the most frequent of the two columns will be appended as redundant\n",
        "        elif (column0 in unique_redundant_columns) and (column1 not in unique_redundant_columns):\n",
        "            unique_redundant_columns.append(column0)     # we will select the first element of the tuple element as the redundant column, to be dropped later\n",
        "        elif (column0 not in unique_redundant_columns) and (column1 in unique_redundant_columns):\n",
        "            unique_redundant_columns.append(column1)     # we will select the first element of the tuple element as the redundant column, to be dropped later\n",
        "    print(\"Redundant, and therefore to be dropped columns are: \", unique_redundant_columns)\n",
        "\n",
        "    # When dropping we have to update the new_df and the quantitative_normalised_df\n",
        "    quantitative_normalised_columns_df.drop(columns = unique_redundant_columns, inplace = True)\n",
        "    new_df.drop(columns=unique_redundant_columns, inplace = True)\n"
      ]
    },
    {
      "cell_type": "code",
      "execution_count": null,
      "metadata": {
        "id": "B_COTZfmYOVU"
      },
      "outputs": [],
      "source": [
        "drop_redundant_columns(correlated_columns_pairs)\n",
        "quantitative_normalised_columns_df"
      ]
    },
    {
      "cell_type": "markdown",
      "metadata": {
        "id": "QD9UO7ESYOVU"
      },
      "source": [
        "##### 2.2.3 Principal Component Analysis"
      ]
    },
    {
      "cell_type": "markdown",
      "metadata": {
        "id": "Qds8O8InYOVU"
      },
      "source": [
        "Principal component analysis will be used to reduce the dimension of the data in this section."
      ]
    },
    {
      "cell_type": "markdown",
      "metadata": {
        "id": "1oJXiFT2YOVV"
      },
      "source": [
        "First, the new_df dataframe will be divided into target and features dataframes."
      ]
    },
    {
      "cell_type": "code",
      "execution_count": null,
      "metadata": {
        "id": "M5GGFZWnYOVV"
      },
      "outputs": [],
      "source": [
        "features_df = new_df[new_df.columns[:-1]]     # extracting all the features into features_df dataframe\n",
        "target_df = new_df[new_df.columns[-1]]      # extracting the class label column into a new target df"
      ]
    },
    {
      "cell_type": "code",
      "execution_count": null,
      "metadata": {
        "id": "k9BIP3pGYOVZ"
      },
      "outputs": [],
      "source": [
        "X = features_df.values\n",
        "y = target_df.values\n",
        "X.shape"
      ]
    },
    {
      "cell_type": "markdown",
      "metadata": {
        "id": "BljBUE4BYOVa"
      },
      "source": [
        "To decide on the number of components, several number of PCA components will be tried and the smallest number that give satisfactory variation of data will be selected."
      ]
    },
    {
      "cell_type": "code",
      "execution_count": null,
      "metadata": {
        "id": "c-H5qNojYOVb"
      },
      "outputs": [],
      "source": [
        "n_components = np.arange(1,40)\n",
        "\n",
        "components_dict = {}   # a dictionary to store number of components as keys and their cummulative sum of variation as values\n",
        "\n",
        "# iterating for every number of components\n",
        "for i in n_components:\n",
        "    temp_instance = PCA(i)   # creating a PCA object for the corresponding number of components from the list\n",
        "    temp_fit = temp_instance.fit(X)   # we are fitting, the dimension reduction model with the 2D array from lab tasks\n",
        "    X_temp = temp_fit.transform(X)  # transforming the data using the fitted PCA model\n",
        "\n",
        "    temp_components_ratio = temp_fit.explained_variance_ratio_\n",
        "    temp_cumsum = (np.cumsum(temp_components_ratio))*100\n",
        "\n",
        "    components_dict[i] = temp_cumsum       # storing the cummulative sum into the dictionary\n",
        "\n",
        "components_dict"
      ]
    },
    {
      "cell_type": "markdown",
      "metadata": {
        "id": "8KgoiSFUYOVc"
      },
      "source": [
        "Selecting the relevant number of components"
      ]
    },
    {
      "cell_type": "code",
      "execution_count": null,
      "metadata": {
        "id": "Ga_My671YOVc"
      },
      "outputs": [],
      "source": [
        "keys_val = list()\n",
        "cummulative_variation = list()\n",
        "required_variance_by_k_components = 99.5    # desired percential of variation to be captured by the PCA components\n",
        "optimal_n_components = 1     #variable initialised to 1\n",
        "never_executed = True\n",
        "\n",
        "# for loop for iterating over the dictionary to get the number of components that satisfy required variance of data and store components and cummulative variance into lists\n",
        "for i in components_dict:\n",
        "    keys_val.append(i)\n",
        "    variance_by_n_component = components_dict[i][-1]\n",
        "    cummulative_variation.append(variance_by_n_component)\n",
        "    if ((variance_by_n_component >= required_variance_by_k_components ) and (never_executed)):\n",
        "        never_executed = False;\n",
        "        optimal_n_components = i\n",
        "print(f\"After iterating over the components the optimal number that satisfies the requirements is: {optimal_n_components}\")"
      ]
    },
    {
      "cell_type": "code",
      "execution_count": null,
      "metadata": {
        "id": "UTmEYk41YOVd"
      },
      "outputs": [],
      "source": [
        "\n",
        "keys_val = list()\n",
        "cummulative_variation = list()\n",
        "for i in components_dict:\n",
        "    keys_val.append(i)\n",
        "    cummulative_variation.append(components_dict[i][-1])\n",
        "\n",
        "fig, ax = plt.subplots()\n",
        "fig.set_size_inches(20,10)\n",
        "plt.plot(keys_val,cummulative_variation, '-*' )\n",
        "plt.grid()\n",
        "plt.title(\"Number of PCA components vs cummulative variation explained by n components\")\n",
        "_=plt.xlabel(\"number of components\")\n",
        "_=plt.ylabel(\"cummulative variation by n components\")\n",
        "plt.vlines(keys_val, 0, cummulative_variation, linestyle=\"dashed\")\n",
        "plt.hlines(cummulative_variation, 0, keys_val, linestyle=\"dashed\")\n",
        "plt.hlines(99.9, xmin=0, xmax= 40,colors='red')\n",
        "plt.vlines(33, ymin=1, ymax= 100,colors='red')\n",
        "\n"
      ]
    },
    {
      "cell_type": "code",
      "execution_count": null,
      "metadata": {
        "id": "e_wBvfGEYOVe"
      },
      "outputs": [],
      "source": [
        "pca_instance = PCA(n_components=optimal_n_components)\n",
        "pca_instance.fit(X)\n",
        "X_reduced = pca_instance.transform(X)  # transforming the data using the fitted PCA model\n",
        "\n",
        "X_reduced.shape     # a reduced / transformed features values"
      ]
    },
    {
      "cell_type": "markdown",
      "metadata": {
        "id": "aEtx-6q4YOVf"
      },
      "source": [
        "##### 2.2.3.1 Visualising the PCA components"
      ]
    },
    {
      "cell_type": "code",
      "execution_count": null,
      "metadata": {
        "id": "-Ysai6NFYOVf"
      },
      "outputs": [],
      "source": [
        "# Identifying major components and their ratio in explaining variance in the data\n",
        "components_contribution = pca_instance.explained_variance_ratio_\n",
        "\n",
        "fig, ax = plt.subplots()\n",
        "fig.set_size_inches(18,8)\n",
        "plt.bar(np.arange(1,31,1), components_contribution)\n",
        "plt.xticks(np.arange(1,31,1))\n",
        "# plt.grid()\n",
        "plt.title(\"Contribution of PCA components to the variation of data\")\n",
        "plt.xlabel(\"Number of components\")\n",
        "plt.ylabel(\"Variance_ratio in out of 1\")\n",
        "# plt.ylim(0,1)"
      ]
    },
    {
      "cell_type": "markdown",
      "metadata": {
        "id": "f9cQ9omHYOVg"
      },
      "source": [
        "Plotting the relation between the most important two components to visualise the influence of the two most important components and class labels distribution."
      ]
    },
    {
      "cell_type": "code",
      "execution_count": null,
      "metadata": {
        "id": "rdyKelnBYOVh"
      },
      "outputs": [],
      "source": [
        "new_df['first-component'] =X_reduced[:,0]    #adding the first component to the new_df component to be regrouped into each class's contribution\n",
        "new_df['second-component'] =X_reduced[:,1]    #adding the second component to the new_df component to be regrouped into each class's contribution\n",
        "\n",
        "#creating dataframes for each class label, with information that includes first-component and second-components\n",
        "class_label1 = new_df.loc[new_df['cover_type']==1]\n",
        "class_label2 = new_df.loc[new_df['cover_type']==2]\n",
        "class_label3 = new_df.loc[new_df['cover_type']==3]\n",
        "class_label4 = new_df.loc[new_df['cover_type']==4]\n",
        "class_label5 = new_df.loc[new_df['cover_type']==5]\n",
        "class_label6 = new_df.loc[new_df['cover_type']==6]\n",
        "class_label7 = new_df.loc[new_df['cover_type']==7]"
      ]
    },
    {
      "cell_type": "markdown",
      "metadata": {
        "id": "Md_ZO5_hYOVi"
      },
      "source": [
        "![class-labels](../Dataset/class_labels.png)"
      ]
    },
    {
      "cell_type": "code",
      "execution_count": null,
      "metadata": {
        "id": "QOlYgspXYOVi"
      },
      "outputs": [],
      "source": [
        "fig, ax = plt.subplots()\n",
        "fig.set_size_inches(20,10)\n",
        "_=plt.scatter(class_label1['first-component'], class_label1['second-component'], color = 'red', label = 'Spruce/Fir')\n",
        "_=plt.scatter(class_label2['first-component'], class_label2['second-component'], color = 'blue', label = 'Lodgepole Pine')\n",
        "_=plt.scatter(class_label3['first-component'], class_label3['second-component'], color = 'green', label = 'Ponderosa Pine')\n",
        "_=plt.scatter(class_label4['first-component'], class_label4['second-component'], color = 'purple', label = 'Cottonwood/Willow')\n",
        "_=plt.scatter(class_label5['first-component'], class_label5['second-component'], color = 'orange', label = 'Aspen')\n",
        "_=plt.scatter(class_label6['first-component'], class_label6['second-component'], color = 'cyan', label = 'Douglas-fir')\n",
        "_=plt.scatter(class_label7['first-component'], class_label7['second-component'], color = 'magenta', label = 'Krummholz')\n",
        "\n",
        "\n",
        "plt.legend(fontsize=16)\n",
        "plt.grid()\n",
        "plt.xlabel('First component',fontsize=16);\n",
        "plt.ylabel('Secon component', fontsize=16);\n",
        "plt.title('First Component vs Second component PCA',fontsize=16);\n",
        "plt.xticks(fontsize=16);\n",
        "plt.yticks(fontsize=16);\n"
      ]
    },
    {
      "cell_type": "code",
      "execution_count": null,
      "metadata": {
        "id": "Hokx9hXFYOVj"
      },
      "outputs": [],
      "source": [
        "new_df"
      ]
    },
    {
      "cell_type": "code",
      "execution_count": null,
      "metadata": {
        "id": "f9v0Qwc0P5wI"
      },
      "outputs": [],
      "source": [
        "# _=plt.scatter(class_label1['first-component'], class_label1['second-component'], color = 'red', label = 'Spruce/Fir')\n",
        "# _=plt.scatter(class_label2['first-component'], class_label2['second-component'], color = 'blue', label = 'Lodgepole Pine')\n",
        "# _=plt.scatter(class_label3['first-component'], class_label3['second-component'], color = 'green', label = 'Ponderosa Pine')\n",
        "# _=plt.scatter(class_label4['first-component'], class_label4['second-component'], color = 'purple', label = 'Cottonwood/Willow')\n",
        "# _=plt.scatter(class_label5['first-component'], class_label5['second-component'], color = 'orange', label = 'Aspen')\n",
        "# _=plt.scatter(class_label6['first-component'], class_label6['second-component'], color = 'cyan', label = 'Douglas-fir')\n",
        "# _=plt.scatter(class_label7['first-component'], class_label7['second-component'], color = 'magenta', label = 'Krummholz')\n",
        "\n",
        "# The goal here is to plot the 3d plot of the two major components against the class label\n",
        "\n",
        "fig = px.scatter_3d(class_label1, x= 'first-component' , y= 'second-component', z= 'cover_type', color='cover_type')\n",
        "fig.show()"
      ]
    },
    {
      "cell_type": "code",
      "execution_count": null,
      "metadata": {
        "id": "fVW6ncK2YOVk"
      },
      "outputs": [],
      "source": [
        "fig = px.scatter_3d(new_df, x= 'first-component' , y= 'second-component', z= 'cover_type', color='cover_type')\n",
        "fig.show()"
      ]
    },
    {
      "cell_type": "markdown",
      "metadata": {
        "id": "0wFJM5nXYOVl"
      },
      "source": [
        "From the scatter plot above and the number of each class in the dataset we can understand that our data does not suffer from data imbalance."
      ]
    },
    {
      "cell_type": "markdown",
      "metadata": {
        "id": "M1xhcIdVYOVl"
      },
      "source": [
        "# 3. Models training and evaluation"
      ]
    },
    {
      "cell_type": "markdown",
      "metadata": {
        "id": "i3ofYJLUYOVm"
      },
      "source": [
        "Since the task at hand is a classification problem, then the following models will be evaluated, and tunned to achieve best accuracy.\n",
        "\n",
        "  - k-nearest neighbours = to be used as a baseline model.\n",
        "\n",
        "  - Naive-Bayes classifier\n",
        "\n",
        "  - Logistic regression\n",
        "\n",
        "  - Random Forest\n",
        "\n",
        "  - Decision trees\n",
        "\n",
        "  - Supper vector machines\n",
        "\n"
      ]
    },
    {
      "cell_type": "code",
      "execution_count": null,
      "metadata": {
        "id": "eV9imkaIYOVn"
      },
      "outputs": [],
      "source": [
        "X_train,X_test, y_train, y_test = train_test_split(X_reduced,y, test_size = 0.25)\n",
        "X_train.shape,X_test.shape, y_train.shape, y_test.shape"
      ]
    },
    {
      "cell_type": "code",
      "execution_count": null,
      "metadata": {
        "id": "3PLmlnbWYOVo"
      },
      "outputs": [],
      "source": [
        "model_and_their_scores_dict = {}     # this dictionary is a dictionary that will be used throughout all models used to store their accuracy, precision and recall."
      ]
    },
    {
      "cell_type": "markdown",
      "metadata": {
        "id": "3pGbRt6SYOVm"
      },
      "source": [
        "### 3.1 K-nearst neighbours"
      ]
    },
    {
      "cell_type": "markdown",
      "metadata": {
        "id": "M3M-BhflYOVn"
      },
      "source": [
        "-To find the optimal prediction we will use several k-neighbors.\n",
        "\n",
        "- Due to the balanced number number of classes throughout the sample the accuracy performance metric will be used.\n",
        "\n",
        "- For the covertype classification problem, it can deduced that cost of **false positives** are high. This is due to the fact that if an environment has been labelled incorrectly as suitable for a certain forest type, then all the investment and efforts spent are for nothing.  "
      ]
    },
    {
      "cell_type": "code",
      "execution_count": null,
      "metadata": {
        "id": "Z4I6Z5QgYOVo"
      },
      "outputs": [],
      "source": [
        "k_candidates = np.arange(1,23,2)    # k - number of kneighbours can only be odd numbers\n",
        "\n",
        "k_models_dictionary = {}   # a dictionary to store the precision, f1 score and accuracy of k neighbors in the format {\"k\": test_accuracy, train_accuracy}\n",
        "\n",
        "for k_instance in k_candidates:\n",
        "    knn_classifier = KNeighborsClassifier(n_neighbors=k_instance)\n",
        "    knn_classifier.fit(X_train, y_train)\n",
        "    knn_classifier_prediction_train = knn_classifier.predict(X_train)\n",
        "    knn_classifier_prediction_test = knn_classifier.predict(X_test)\n",
        "\n",
        "    # Evaluation scores\n",
        "    knn_accuracy_test = accuracy_score(y_test, knn_classifier_prediction_test)\n",
        "    knn_accuracy_train = accuracy_score(y_train, knn_classifier_prediction_train)\n",
        "\n",
        "\n",
        "    k_metric_values = [knn_accuracy_test,knn_accuracy_test]\n",
        "    k_models_dictionary[k_instance] = k_metric_values\n",
        "    print(f\"\\nk = {k_instance}\")\n",
        "    print(f\"The accuracy of the knn model on the training set is  is  {knn_accuracy_test}\")\n",
        "    print(f\"The accuracy of the knn model on the testing set is {knn_accuracy_train}\")\n",
        "\n"
      ]
    },
    {
      "cell_type": "markdown",
      "metadata": {
        "id": "roGsNB8tT-Dz"
      },
      "source": [
        "Plot of the accuracy of the number of components on the training and testing set."
      ]
    },
    {
      "cell_type": "code",
      "execution_count": null,
      "metadata": {
        "id": "TUBME8U3UGFz"
      },
      "outputs": [],
      "source": [
        "fig, axs = plt.subplots()\n",
        "fig.set_size_inches(18,8)\n",
        "\n",
        "k_accuracy = []\n",
        "k_precision = []\n",
        "k_mathew =[]\n",
        "for ke in (k_models_dictionary.keys()):\n",
        "  k_accuracy.append(k_models_dictionary[ke][0])\n",
        "  k_precision.append(k_models_dictionary[ke][1])\n",
        "  k_mathew.append(k_models_dictionary[ke][2])\n",
        "\n",
        "plt.plot(list(k_models_dictionary.keys()), np.array(k_accuracy).reshape(-1,1), 'blue', label = \"Accuracy\")\n",
        "plt.plot(list(k_models_dictionary.keys()),np.array(k_precision).reshape(-1,1), 'red',label = 'Precision')\n",
        "plt.xticks(np.arange(1,24,1))\n",
        "plt.legend()\n",
        "plt.grid()"
      ]
    },
    {
      "cell_type": "markdown",
      "metadata": {
        "id": "QxqblSFcqceA"
      },
      "source": [
        "From the plot above, the optimal number of neighbors is ______. Consequently, this will be added to the model_and_their_scores_dict to be compared with other algorithms' results.\n",
        "\n",
        "- K-neighbours classifier's accuracy will be used as a baseline to other algorithms.\n",
        "\n",
        "- Not only the accuracy of the K-NN model will be compared against other algorithms but also the precision and mathew's correlation coefficient."
      ]
    },
    {
      "cell_type": "code",
      "execution_count": null,
      "metadata": {
        "id": "NUW3NjWHkxZD"
      },
      "outputs": [],
      "source": [
        "k_optimal =\n",
        "\n",
        "knn_classifier = KNeighborsClassifier(n_neighbors=k_optimal)\n",
        "knn_classifier.fit(X_train, y_train)\n",
        "knn_classifier_prediction = knn_classifier.predict(X_test)\n",
        "\n",
        "# Evaluation scores\n",
        "knn_accuracy_test = accuracy_score(y_test, knn_classifier_prediction)\n",
        "knn_precision = precision_score(y_test, knn_classifier_prediction, average='weighted')    # weighted average is\n",
        "knn_mathew_corre_coeff = matthews_corrcoef(y_test, knn_classifier_prediction)\n",
        "model_and_their_scores_dict['k-NN'] = [knn_accuracy_test, knn_precision, knn_mathew_corre_coeff]\n",
        "model_and_their_scores_dict"
      ]
    },
    {
      "cell_type": "markdown",
      "metadata": {
        "id": "l9l9QfUvRCLi"
      },
      "source": [
        "From the several knn neighbour models the optimal one will be selected in the cell below.\n",
        "\n",
        "- To do so accuracy, precision and mathew's correlation coefficient will be used.  "
      ]
    },
    {
      "cell_type": "code",
      "execution_count": null,
      "metadata": {
        "id": "TYaj6AviYOVo"
      },
      "outputs": [],
      "source": []
    },
    {
      "cell_type": "markdown",
      "metadata": {
        "id": "6xLf7H13SWGZ"
      },
      "source": [
        "After an optimal model has been selected, we will see its capability by ploting the auc curve."
      ]
    },
    {
      "cell_type": "code",
      "execution_count": null,
      "metadata": {
        "id": "uL_cuIVaYOVp"
      },
      "outputs": [],
      "source": [
        "np.unique(knn_classifier_prediction)"
      ]
    },
    {
      "cell_type": "code",
      "execution_count": null,
      "metadata": {
        "id": "1nKgTiBJYOVp"
      },
      "outputs": [],
      "source": [
        "# # Evaluation scores\n",
        "# knn_accuracy = accuracy_score(y_test, knn_classifier_prediction)\n",
        "# knn_precision = precision_score(y_test, knn_classifier_prediction, average='micro')\n",
        "# knn_recall = recall_score(y_test, knn_classifier_prediction, average = 'micro')\n",
        "# knn_confusion_matrix = confusion_matrix(y_test, knn_classifier_prediction)\n",
        "# #\n",
        "# print(f\"The accuracy of the knn model is  {knn_accuracy}\")\n",
        "# print(f\"The precision of the knn model is  {knn_precision}\")\n",
        "# print(f\"The recall of the knn model is  {knn_recall}\")\n",
        "# print(f\"The confusion matrix of the knn model is \\n {knn_confusion_matrix}\")"
      ]
    },
    {
      "cell_type": "code",
      "execution_count": null,
      "metadata": {
        "id": "q6-mEpjkYOVq"
      },
      "outputs": [],
      "source": []
    },
    {
      "cell_type": "code",
      "execution_count": null,
      "metadata": {
        "id": "EfqkRIn0YOVq"
      },
      "outputs": [],
      "source": []
    },
    {
      "cell_type": "code",
      "execution_count": null,
      "metadata": {
        "id": "t-djvC46YOVu"
      },
      "outputs": [],
      "source": []
    },
    {
      "cell_type": "code",
      "execution_count": null,
      "metadata": {
        "id": "bLj9wmZAYOVu"
      },
      "outputs": [],
      "source": []
    },
    {
      "cell_type": "markdown",
      "metadata": {
        "id": "2bHAARZcYOVu"
      },
      "source": [
        "### 3.2 Naive-Bayes Classifier"
      ]
    },
    {
      "cell_type": "markdown",
      "metadata": {
        "id": "oJwY9KLhh5dk"
      },
      "source": [
        "- Due to its fast implementation and good performance with multi-class classification Naive-Bayes classifer will be used.\n",
        "\n",
        "- Since highly correlated features/columns have been removed potential dependency is reduced, and the independence amongst features assumption could be considered."
      ]
    },
    {
      "cell_type": "code",
      "execution_count": null,
      "metadata": {
        "id": "vKykNHAsYOVv"
      },
      "outputs": [],
      "source": [
        "from sklearn.naive_bayes import GaussianNB"
      ]
    },
    {
      "cell_type": "code",
      "execution_count": 71,
      "metadata": {
        "colab": {
          "base_uri": "https://localhost:8080/",
          "height": 245
        },
        "id": "6qtR7DPoYOVv",
        "outputId": "2ced7844-a3e0-4c92-e01a-42a0e3134a20"
      },
      "outputs": [
        {
          "ename": "NameError",
          "evalue": "ignored",
          "output_type": "error",
          "traceback": [
            "\u001b[0;31m---------------------------------------------------------------------------\u001b[0m",
            "\u001b[0;31mNameError\u001b[0m                                 Traceback (most recent call last)",
            "\u001b[0;32m<ipython-input-71-aa9534fe212b>\u001b[0m in \u001b[0;36m<cell line: 2>\u001b[0;34m()\u001b[0m\n\u001b[1;32m      1\u001b[0m \u001b[0mgnb\u001b[0m \u001b[0;34m=\u001b[0m \u001b[0mGaussianNB\u001b[0m\u001b[0;34m(\u001b[0m\u001b[0;34m)\u001b[0m\u001b[0;34m\u001b[0m\u001b[0;34m\u001b[0m\u001b[0m\n\u001b[0;32m----> 2\u001b[0;31m \u001b[0mgnb\u001b[0m\u001b[0;34m.\u001b[0m\u001b[0mfit\u001b[0m\u001b[0;34m(\u001b[0m\u001b[0mX_train\u001b[0m\u001b[0;34m,\u001b[0m \u001b[0my_train\u001b[0m\u001b[0;34m)\u001b[0m\u001b[0;34m\u001b[0m\u001b[0;34m\u001b[0m\u001b[0m\n\u001b[0m\u001b[1;32m      3\u001b[0m \u001b[0mgnb_predicted\u001b[0m \u001b[0;34m=\u001b[0m \u001b[0mgnb\u001b[0m\u001b[0;34m.\u001b[0m\u001b[0mpredict\u001b[0m\u001b[0;34m(\u001b[0m\u001b[0mX_test\u001b[0m\u001b[0;34m)\u001b[0m\u001b[0;34m\u001b[0m\u001b[0;34m\u001b[0m\u001b[0m\n\u001b[1;32m      4\u001b[0m \u001b[0maccuracy_score\u001b[0m\u001b[0;34m(\u001b[0m\u001b[0my_test\u001b[0m\u001b[0;34m,\u001b[0m \u001b[0mgnb_predicted\u001b[0m\u001b[0;34m)\u001b[0m\u001b[0;34m\u001b[0m\u001b[0;34m\u001b[0m\u001b[0m\n\u001b[1;32m      5\u001b[0m \u001b[0mprecision_score\u001b[0m\u001b[0;34m(\u001b[0m\u001b[0my_test\u001b[0m\u001b[0;34m,\u001b[0m \u001b[0mgnb_predicted\u001b[0m\u001b[0;34m,\u001b[0m \u001b[0maverage\u001b[0m \u001b[0;34m=\u001b[0m\u001b[0;34m'weighted'\u001b[0m\u001b[0;34m)\u001b[0m\u001b[0;34m\u001b[0m\u001b[0;34m\u001b[0m\u001b[0m\n",
            "\u001b[0;31mNameError\u001b[0m: name 'X_train' is not defined"
          ]
        }
      ],
      "source": [
        "gnb = GaussianNB()\n",
        "gnb.fit(X_train, y_train)\n",
        "gnb_predicted = gnb.predict(X_test)\n",
        "accuracy_score(y_test, gnb_predicted)\n",
        "precision_score(y_test, gnb_predicted, average ='weighted')"
      ]
    },
    {
      "cell_type": "markdown",
      "metadata": {
        "id": "BkUNsOPfYOVv"
      },
      "source": [
        "### 3.3 Logistic Regression"
      ]
    },
    {
      "cell_type": "code",
      "execution_count": null,
      "metadata": {
        "id": "d31FK0HRYOVw"
      },
      "outputs": [],
      "source": [
        "lrm = LogisticRegression(penalty='elasticnet',l1_ratio = 0.6, solver='saga')\n",
        "lrm.fit(X_train, y_train)\n",
        "prediction_value = lrm.predict(X_test)\n",
        "accuracy_score(y_test, prediction_value)"
      ]
    },
    {
      "cell_type": "markdown",
      "metadata": {
        "id": "gArP9Tq0YOVw"
      },
      "source": [
        "### 3.4 Random forest"
      ]
    },
    {
      "cell_type": "markdown",
      "metadata": {
        "id": "rx3zZ4T3wl-L"
      },
      "source": [
        "To select the random forest with optimal attributes several random forest models will be evaluated."
      ]
    },
    {
      "cell_type": "code",
      "execution_count": 72,
      "metadata": {
        "colab": {
          "base_uri": "https://localhost:8080/",
          "height": 297
        },
        "id": "AzEqnlElYOVx",
        "outputId": "8229749c-0c7c-4386-e6d8-3fb3fb4eff19"
      },
      "outputs": [
        {
          "ename": "TypeError",
          "evalue": "ignored",
          "output_type": "error",
          "traceback": [
            "\u001b[0;31m---------------------------------------------------------------------------\u001b[0m",
            "\u001b[0;31mTypeError\u001b[0m                                 Traceback (most recent call last)",
            "\u001b[0;32m<ipython-input-72-9c407a3c0a4a>\u001b[0m in \u001b[0;36m<cell line: 3>\u001b[0;34m()\u001b[0m\n\u001b[1;32m      2\u001b[0m \u001b[0mtrain_acc\u001b[0m \u001b[0;34m=\u001b[0m \u001b[0;34m[\u001b[0m\u001b[0;34m]\u001b[0m   \u001b[0;31m# list to score model's accuracy on the training set\u001b[0m\u001b[0;34m\u001b[0m\u001b[0;34m\u001b[0m\u001b[0m\n\u001b[1;32m      3\u001b[0m \u001b[0;32mfor\u001b[0m \u001b[0mdepth\u001b[0m \u001b[0;32min\u001b[0m \u001b[0mrange\u001b[0m\u001b[0;34m(\u001b[0m\u001b[0;36m10\u001b[0m\u001b[0;34m,\u001b[0m\u001b[0;36m50\u001b[0m\u001b[0;34m,\u001b[0m\u001b[0;36m5\u001b[0m\u001b[0;34m)\u001b[0m\u001b[0;34m:\u001b[0m\u001b[0;34m\u001b[0m\u001b[0;34m\u001b[0m\u001b[0m\n\u001b[0;32m----> 4\u001b[0;31m     \u001b[0mrandomforesttest\u001b[0m  \u001b[0;34m=\u001b[0m \u001b[0mRandomForestClassifier\u001b[0m\u001b[0;34m(\u001b[0m \u001b[0mn_estimators\u001b[0m\u001b[0;34m=\u001b[0m \u001b[0;36m50\u001b[0m\u001b[0;34m,\u001b[0m \u001b[0mn_classes_\u001b[0m \u001b[0;34m=\u001b[0m \u001b[0;36m7\u001b[0m \u001b[0;34m,\u001b[0m\u001b[0mmax_depth\u001b[0m\u001b[0;34m=\u001b[0m\u001b[0mdepth\u001b[0m\u001b[0;34m)\u001b[0m\u001b[0;34m\u001b[0m\u001b[0;34m\u001b[0m\u001b[0m\n\u001b[0m\u001b[1;32m      5\u001b[0m     \u001b[0mrandomforesttest\u001b[0m\u001b[0;34m.\u001b[0m\u001b[0mfit\u001b[0m\u001b[0;34m(\u001b[0m\u001b[0mX_train\u001b[0m\u001b[0;34m,\u001b[0m \u001b[0my_train\u001b[0m\u001b[0;34m)\u001b[0m\u001b[0;34m\u001b[0m\u001b[0;34m\u001b[0m\u001b[0m\n\u001b[1;32m      6\u001b[0m     \u001b[0mmodel_acc\u001b[0m\u001b[0;34m.\u001b[0m\u001b[0mappend\u001b[0m\u001b[0;34m(\u001b[0m\u001b[0maccuracy_score\u001b[0m\u001b[0;34m(\u001b[0m\u001b[0mX_test\u001b[0m\u001b[0;34m,\u001b[0m \u001b[0mrandomforesttest\u001b[0m\u001b[0;34m.\u001b[0m\u001b[0mpredict\u001b[0m\u001b[0;34m(\u001b[0m\u001b[0mX_test\u001b[0m\u001b[0;34m)\u001b[0m\u001b[0;34m)\u001b[0m\u001b[0;34m)\u001b[0m\u001b[0;34m\u001b[0m\u001b[0;34m\u001b[0m\u001b[0m\n",
            "\u001b[0;31mTypeError\u001b[0m: RandomForestClassifier.__init__() got an unexpected keyword argument 'n_classes_'"
          ]
        }
      ],
      "source": [
        "model_acc=[]   # list to store model's accuracy on testing set\n",
        "train_acc = []   # list to score model's accuracy on the training set\n",
        "for depth in range(10,50,5):\n",
        "    randomforesttest  = RandomForestClassifier( n_estimators= 50, n_classes_ = 7 ,max_depth=depth)\n",
        "    randomforesttest.fit(X_train, y_train)\n",
        "    model_acc.append(accuracy_score(X_test, randomforesttest.predict(X_test)))\n",
        "    train_acc.append(accuracy_score(X_train, randomforesttest.predict(X_train)))\n",
        "    print(\"Accuracy on the training set is: \",accuracy_score(y_train, randomforesttest.predict(X_train)))\n",
        "    print(\"Accuracy on the testing set is: \",accuracy_score(y_test, randomforesttest.predict(X_test)))"
      ]
    },
    {
      "cell_type": "code",
      "execution_count": null,
      "metadata": {
        "id": "8Da8N4stYOVx"
      },
      "outputs": [],
      "source": []
    },
    {
      "cell_type": "markdown",
      "metadata": {
        "id": "HYhNrcSwxZtF"
      },
      "source": [
        "### Visualising the **components, features**\n",
        "   by themselves to see if some are redundant or explain very little variability in our data.\n",
        "\n",
        "- First we will compute the covariance of the features to observe correlation between features.\n",
        "\n",
        "- Then the Principal Component Analysis will be applied\n",
        "\n",
        "- Moreover, similar patterns and variation of two features indicate duplicity so such features are also observed."
      ]
    },
    {
      "cell_type": "code",
      "execution_count": null,
      "metadata": {
        "id": "owiA7GfJdfGQ"
      },
      "outputs": [],
      "source": [
        "# To better compare the features we will find the zscore dataframe corresponding\n",
        "df_zscore = df.copy()\n",
        "df_zscore = stats.zscore(df_zscore)"
      ]
    },
    {
      "cell_type": "code",
      "execution_count": null,
      "metadata": {
        "id": "STzhBi2vdJBW"
      },
      "outputs": [],
      "source": [
        "df_zscore"
      ]
    },
    {
      "cell_type": "markdown",
      "metadata": {
        "id": "vrQVDvmkYmM6"
      },
      "source": [
        "Splitting the df_zscore into target and features.\n",
        "\n",
        "- We shall analyse the features dataframe separately from the target.\n",
        "\n",
        "- Moreover, dimensionality reduction shall be applied on the features dataframe."
      ]
    },
    {
      "cell_type": "code",
      "execution_count": null,
      "metadata": {
        "id": "91Br4Zg3Y1AK"
      },
      "outputs": [],
      "source": [
        "features_df = df[np.arange(0,54,1)]\n",
        "target_df = df[54]\n",
        "target_df"
      ]
    },
    {
      "cell_type": "code",
      "execution_count": null,
      "metadata": {
        "id": "x8CHWBBbRBzR"
      },
      "outputs": [],
      "source": [
        "from sklearn.decomposition import PCA\n",
        "from tqdm import tqdm\n"
      ]
    },
    {
      "cell_type": "markdown",
      "metadata": {
        "id": "WOqOWlOvW5NI"
      },
      "source": [
        "The cell below tries to find the optimal number of components/features using PCA analysis by iterating and the cummulative sum of the data variance explained by the components"
      ]
    },
    {
      "cell_type": "code",
      "execution_count": null,
      "metadata": {
        "id": "hUUD2EV-TRXM"
      },
      "outputs": [],
      "source": [
        "number_of_components = np.arange(1,len(df.columns), 1)   # the range is the same as the number of columns, which are equivalent to features in this case\n",
        "components_representation_list = {}\n",
        "X = features_df.values    # df.values()\n",
        "for i in tqdm(number_of_components):\n",
        "  instance_pca = PCA(i)\n",
        "  temp_fit = instance_pca.fit(X)   # we are fitting, the dimension reduction model with the 2D array from lab tasks\n",
        "  X_temp = temp_fit.transform(X)\n",
        "\n",
        "  temp_components_ratio = temp_fit.explained_variance_ratio_\n",
        "  temp_cumsum = (np.cumsum(temp_components_ratio))*100\n",
        "\n",
        "  components_representation_list[i] = temp_cumsum       # storing the cummulative sum into the dictionary\n",
        "\n",
        "\n"
      ]
    },
    {
      "cell_type": "code",
      "execution_count": null,
      "metadata": {
        "id": "mQ5p8Y9-VLdg"
      },
      "outputs": [],
      "source": [
        "components_representation_list"
      ]
    },
    {
      "cell_type": "markdown",
      "metadata": {
        "id": "oATPGZ-HX4TU"
      },
      "source": [
        "From the output cell above, it is clear that the first four components can explain about 99.9% of the variance of the overall data.\n",
        "\n",
        "From this two approaches could be attempted:\n",
        "\n",
        "1. Reducing the components or features reduced to only the number that explains 99.9% of the variance in the data. And training the model only upon this data.\n",
        "Expectation: the training of the model and the model itself isn't complex. Resuts are expected to either surpass the unreduced components\n",
        "\n",
        "2. Working with the original dataset/dimension. The results should be crude but the accuracy of prediction can be considered as a base for the reduced data."
      ]
    },
    {
      "cell_type": "code",
      "execution_count": null,
      "metadata": {
        "id": "jnQqMfLDbBY4"
      },
      "outputs": [],
      "source": [
        "# To determine the number of components we will iterate\n",
        "\n",
        "smallest_best_no_components = 1\n",
        "for i in components_representation_list:\n",
        "  cummulative_variance_of_component = components_representation_list[i][-1]      #the last value is the variance of data explained by the selected number components\n",
        "  if cummulative_variance_of_component >= 99.9:\n",
        "    smallest_best_no_components = i\n",
        "    print(\" The smallest number of components that represents 99.9% of the variability in the data is: \", smallest_best_no_components)\n",
        "    break;\n",
        "\n",
        "\n"
      ]
    },
    {
      "cell_type": "code",
      "execution_count": null,
      "metadata": {
        "id": "CE9ke35RbAnP"
      },
      "outputs": [],
      "source": [
        "best_PCA = PCA(smallest_best_no_components)\n",
        "best_fitted = best_PCA.fit(X)    # fitting our features data to the PCA model with 5 components\n",
        "pca_transformed = best_fitted.transform(X)  # transforming our data according to the fitted model\n",
        "\n",
        "reduced_target_df = pd.DataFrame(pca_transformed)\n"
      ]
    },
    {
      "cell_type": "code",
      "execution_count": null,
      "metadata": {
        "id": "HeANr74Ka9xk"
      },
      "outputs": [],
      "source": [
        "reduced_target_df"
      ]
    },
    {
      "cell_type": "markdown",
      "metadata": {
        "id": "2MQ32S86mFn3"
      },
      "source": [
        "As can be seen from the output above the newly reduced target dataframe contains only 4 features/ dimensions.\n",
        "\n",
        "The values of the newly reduced and PCA transformed data captures the escence and variation of the original data and are correct mathematical values; however, they don't make sense as they are."
      ]
    },
    {
      "cell_type": "code",
      "execution_count": null,
      "metadata": {
        "id": "CveJbevsnWLg"
      },
      "outputs": [],
      "source": []
    },
    {
      "cell_type": "code",
      "execution_count": null,
      "metadata": {
        "id": "H7DSp2K1JtG8"
      },
      "outputs": [],
      "source": [
        "fig, axs = plt.subplots()\n",
        "fig.set_size_inches(20,8)\n",
        "\n",
        "plt.scatter(df.index, df[1], color='indianred', edgecolors='r', alpha = 0.01)\n",
        "plt.scatter(df.index, df[2], color='royalblue', edgecolors='b', alpha = 0.01)\n",
        "# plt.scatter(df.index, df[3], color='mediumseagreen', edgecolors='g')\n",
        "plt.xlabel('Date',fontsize=12);\n",
        "plt.legend()"
      ]
    },
    {
      "cell_type": "code",
      "execution_count": null,
      "metadata": {
        "id": "7p_Ek8iwQWVg"
      },
      "outputs": [],
      "source": []
    }
  ],
  "metadata": {
    "accelerator": "GPU",
    "colab": {
      "gpuType": "T4",
      "provenance": []
    },
    "kernelspec": {
      "display_name": "Python 3",
      "name": "python3"
    },
    "language_info": {
      "codemirror_mode": {
        "name": "ipython",
        "version": 3
      },
      "file_extension": ".py",
      "mimetype": "text/x-python",
      "name": "python",
      "nbconvert_exporter": "python",
      "pygments_lexer": "ipython3",
      "version": "3.11.4"
    }
  },
  "nbformat": 4,
  "nbformat_minor": 0
}
